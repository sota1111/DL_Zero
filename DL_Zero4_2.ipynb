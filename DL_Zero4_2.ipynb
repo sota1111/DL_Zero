{
  "nbformat": 4,
  "nbformat_minor": 0,
  "metadata": {
    "colab": {
      "name": "DL_Zero4_2.ipynb",
      "provenance": [],
      "toc_visible": true,
      "authorship_tag": "ABX9TyM27gDlINcjV3lyeTz/64d+",
      "include_colab_link": true
    },
    "kernelspec": {
      "name": "python3",
      "display_name": "Python 3"
    },
    "language_info": {
      "name": "python"
    }
  },
  "cells": [
    {
      "cell_type": "markdown",
      "metadata": {
        "id": "view-in-github",
        "colab_type": "text"
      },
      "source": [
        "<a href=\"https://colab.research.google.com/github/sota1111/DL_Zero4/blob/main/DL_Zero4_2.ipynb\" target=\"_parent\"><img src=\"https://colab.research.google.com/assets/colab-badge.svg\" alt=\"Open In Colab\"/></a>"
      ]
    },
    {
      "cell_type": "code",
      "source": [
        "!pip install numpy matplotlib ipython scikit-learn pandas pillow dezero gym"
      ],
      "metadata": {
        "colab": {
          "base_uri": "https://localhost:8080/"
        },
        "id": "0cmQYz1zfyxd",
        "outputId": "a6fe752a-44ac-451d-f484-3f5e0f3896c2"
      },
      "execution_count": 30,
      "outputs": [
        {
          "output_type": "stream",
          "name": "stdout",
          "text": [
            "Looking in indexes: https://pypi.org/simple, https://us-python.pkg.dev/colab-wheels/public/simple/\n",
            "Requirement already satisfied: numpy in /usr/local/lib/python3.7/dist-packages (1.21.6)\n",
            "Requirement already satisfied: matplotlib in /usr/local/lib/python3.7/dist-packages (3.2.2)\n",
            "Requirement already satisfied: ipython in /usr/local/lib/python3.7/dist-packages (5.5.0)\n",
            "Requirement already satisfied: scikit-learn in /usr/local/lib/python3.7/dist-packages (1.0.2)\n",
            "Requirement already satisfied: pandas in /usr/local/lib/python3.7/dist-packages (1.3.5)\n",
            "Requirement already satisfied: pillow in /usr/local/lib/python3.7/dist-packages (7.1.2)\n",
            "Requirement already satisfied: dezero in /usr/local/lib/python3.7/dist-packages (0.0.13)\n",
            "Requirement already satisfied: gym in /usr/local/lib/python3.7/dist-packages (0.17.3)\n",
            "Requirement already satisfied: cycler>=0.10 in /usr/local/lib/python3.7/dist-packages (from matplotlib) (0.11.0)\n",
            "Requirement already satisfied: kiwisolver>=1.0.1 in /usr/local/lib/python3.7/dist-packages (from matplotlib) (1.4.4)\n",
            "Requirement already satisfied: pyparsing!=2.0.4,!=2.1.2,!=2.1.6,>=2.0.1 in /usr/local/lib/python3.7/dist-packages (from matplotlib) (3.0.9)\n",
            "Requirement already satisfied: python-dateutil>=2.1 in /usr/local/lib/python3.7/dist-packages (from matplotlib) (2.8.2)\n",
            "Requirement already satisfied: typing-extensions in /usr/local/lib/python3.7/dist-packages (from kiwisolver>=1.0.1->matplotlib) (4.1.1)\n",
            "Requirement already satisfied: six>=1.5 in /usr/local/lib/python3.7/dist-packages (from python-dateutil>=2.1->matplotlib) (1.15.0)\n",
            "Requirement already satisfied: pexpect in /usr/local/lib/python3.7/dist-packages (from ipython) (4.8.0)\n",
            "Requirement already satisfied: prompt-toolkit<2.0.0,>=1.0.4 in /usr/local/lib/python3.7/dist-packages (from ipython) (1.0.18)\n",
            "Requirement already satisfied: simplegeneric>0.8 in /usr/local/lib/python3.7/dist-packages (from ipython) (0.8.1)\n",
            "Requirement already satisfied: decorator in /usr/local/lib/python3.7/dist-packages (from ipython) (4.4.2)\n",
            "Requirement already satisfied: pickleshare in /usr/local/lib/python3.7/dist-packages (from ipython) (0.7.5)\n",
            "Requirement already satisfied: setuptools>=18.5 in /usr/local/lib/python3.7/dist-packages (from ipython) (57.4.0)\n",
            "Requirement already satisfied: traitlets>=4.2 in /usr/local/lib/python3.7/dist-packages (from ipython) (5.1.1)\n",
            "Requirement already satisfied: pygments in /usr/local/lib/python3.7/dist-packages (from ipython) (2.6.1)\n",
            "Requirement already satisfied: wcwidth in /usr/local/lib/python3.7/dist-packages (from prompt-toolkit<2.0.0,>=1.0.4->ipython) (0.2.5)\n",
            "Requirement already satisfied: joblib>=0.11 in /usr/local/lib/python3.7/dist-packages (from scikit-learn) (1.1.0)\n",
            "Requirement already satisfied: threadpoolctl>=2.0.0 in /usr/local/lib/python3.7/dist-packages (from scikit-learn) (3.1.0)\n",
            "Requirement already satisfied: scipy>=1.1.0 in /usr/local/lib/python3.7/dist-packages (from scikit-learn) (1.7.3)\n",
            "Requirement already satisfied: pytz>=2017.3 in /usr/local/lib/python3.7/dist-packages (from pandas) (2022.1)\n",
            "Requirement already satisfied: pyglet<=1.5.0,>=1.4.0 in /usr/local/lib/python3.7/dist-packages (from gym) (1.5.0)\n",
            "Requirement already satisfied: cloudpickle<1.7.0,>=1.2.0 in /usr/local/lib/python3.7/dist-packages (from gym) (1.3.0)\n",
            "Requirement already satisfied: future in /usr/local/lib/python3.7/dist-packages (from pyglet<=1.5.0,>=1.4.0->gym) (0.16.0)\n",
            "Requirement already satisfied: ptyprocess>=0.5 in /usr/local/lib/python3.7/dist-packages (from pexpect->ipython) (0.7.0)\n"
          ]
        }
      ]
    },
    {
      "cell_type": "code",
      "source": [
        "import numpy as np\n",
        "import matplotlib.pyplot as plt\n",
        "import pandas as pd\n",
        "from IPython.display import display\n",
        "from dezero import Variable"
      ],
      "metadata": {
        "id": "0mYsKIN1XcTn"
      },
      "execution_count": 31,
      "outputs": []
    },
    {
      "cell_type": "code",
      "source": [
        "!apt update\n",
        "!apt install xvfb"
      ],
      "metadata": {
        "colab": {
          "base_uri": "https://localhost:8080/"
        },
        "id": "FiYUdUWugGMo",
        "outputId": "b558dfa4-75d8-43e4-86da-6594a4bf28b0"
      },
      "execution_count": 32,
      "outputs": [
        {
          "output_type": "stream",
          "name": "stdout",
          "text": [
            "\u001b[33m\r0% [Working]\u001b[0m\r            \rHit:1 http://security.ubuntu.com/ubuntu bionic-security InRelease\n",
            "\u001b[33m\r0% [Connecting to archive.ubuntu.com (185.125.190.39)] [Waiting for headers] [W\u001b[0m\r                                                                               \rHit:2 https://cloud.r-project.org/bin/linux/ubuntu bionic-cran40/ InRelease\n",
            "\u001b[33m\r0% [Connecting to archive.ubuntu.com (185.125.190.39)] [Waiting for headers] [C\u001b[0m\u001b[33m\r0% [1 InRelease gpgv 88.7 kB] [Connecting to archive.ubuntu.com (185.125.190.39\u001b[0m\r                                                                               \rIgn:3 https://developer.download.nvidia.com/compute/machine-learning/repos/ubuntu1804/x86_64  InRelease\n",
            "\u001b[33m\r0% [1 InRelease gpgv 88.7 kB] [Connecting to archive.ubuntu.com (185.125.190.39\u001b[0m\r                                                                               \rHit:4 https://developer.download.nvidia.com/compute/cuda/repos/ubuntu1804/x86_64  InRelease\n",
            "Hit:5 https://developer.download.nvidia.com/compute/machine-learning/repos/ubuntu1804/x86_64  Release\n",
            "Hit:6 http://archive.ubuntu.com/ubuntu bionic InRelease\n",
            "Hit:7 http://archive.ubuntu.com/ubuntu bionic-updates InRelease\n",
            "Hit:8 http://archive.ubuntu.com/ubuntu bionic-backports InRelease\n",
            "Err:10 http://ppa.launchpad.net/c2d4u.team/c2d4u4.0+/ubuntu bionic InRelease\n",
            "  Could not connect to ppa.launchpad.net:80 (185.125.190.52), connection timed out\n",
            "Err:11 http://ppa.launchpad.net/cran/libgit2/ubuntu bionic InRelease\n",
            "  Unable to connect to ppa.launchpad.net:http:\n",
            "Err:12 http://ppa.launchpad.net/deadsnakes/ppa/ubuntu bionic InRelease\n",
            "  Unable to connect to ppa.launchpad.net:http:\n",
            "Err:13 http://ppa.launchpad.net/graphics-drivers/ppa/ubuntu bionic InRelease\n",
            "  Unable to connect to ppa.launchpad.net:http:\n",
            "Reading package lists... Done\n",
            "Building dependency tree       \n",
            "Reading state information... Done\n",
            "28 packages can be upgraded. Run 'apt list --upgradable' to see them.\n",
            "W: Failed to fetch http://ppa.launchpad.net/c2d4u.team/c2d4u4.0+/ubuntu/dists/bionic/InRelease  Could not connect to ppa.launchpad.net:80 (185.125.190.52), connection timed out\n",
            "W: Failed to fetch http://ppa.launchpad.net/cran/libgit2/ubuntu/dists/bionic/InRelease  Unable to connect to ppa.launchpad.net:http:\n",
            "W: Failed to fetch http://ppa.launchpad.net/deadsnakes/ppa/ubuntu/dists/bionic/InRelease  Unable to connect to ppa.launchpad.net:http:\n",
            "W: Failed to fetch http://ppa.launchpad.net/graphics-drivers/ppa/ubuntu/dists/bionic/InRelease  Unable to connect to ppa.launchpad.net:http:\n",
            "W: Some index files failed to download. They have been ignored, or old ones used instead.\n",
            "Reading package lists... Done\n",
            "Building dependency tree       \n",
            "Reading state information... Done\n",
            "xvfb is already the newest version (2:1.19.6-1ubuntu4.11).\n",
            "The following package was automatically installed and is no longer required:\n",
            "  libnvidia-common-460\n",
            "Use 'apt autoremove' to remove it.\n",
            "0 upgraded, 0 newly installed, 0 to remove and 28 not upgraded.\n"
          ]
        }
      ]
    },
    {
      "cell_type": "code",
      "source": [
        "!pip install pyvirtualdisplay\n",
        "\n",
        "from pyvirtualdisplay import Display\n",
        "\n",
        "d = Display()\n",
        "d.start()"
      ],
      "metadata": {
        "colab": {
          "base_uri": "https://localhost:8080/"
        },
        "id": "X-1PwcAdgH2U",
        "outputId": "cfdf7c6b-edaf-4235-c7b3-e7ef6c30190d"
      },
      "execution_count": 33,
      "outputs": [
        {
          "output_type": "stream",
          "name": "stdout",
          "text": [
            "Looking in indexes: https://pypi.org/simple, https://us-python.pkg.dev/colab-wheels/public/simple/\n",
            "Requirement already satisfied: pyvirtualdisplay in /usr/local/lib/python3.7/dist-packages (3.0)\n"
          ]
        },
        {
          "output_type": "execute_result",
          "data": {
            "text/plain": [
              "<pyvirtualdisplay.display.Display at 0x7f039db32410>"
            ]
          },
          "metadata": {},
          "execution_count": 33
        }
      ]
    },
    {
      "cell_type": "code",
      "source": [
        "!apt update && apt install xvfb\n",
        "!pip install gym-notebook-wrapper"
      ],
      "metadata": {
        "colab": {
          "base_uri": "https://localhost:8080/"
        },
        "id": "TOayo_6ah78F",
        "outputId": "3f9908d0-428f-490f-d272-f8ffe38ac621"
      },
      "execution_count": 34,
      "outputs": [
        {
          "output_type": "stream",
          "name": "stdout",
          "text": [
            "Hit:1 https://cloud.r-project.org/bin/linux/ubuntu bionic-cran40/ InRelease\n",
            "Hit:2 http://archive.ubuntu.com/ubuntu bionic InRelease\n",
            "Ign:3 https://developer.download.nvidia.com/compute/machine-learning/repos/ubuntu1804/x86_64  InRelease\n",
            "Hit:4 http://archive.ubuntu.com/ubuntu bionic-updates InRelease\n",
            "Hit:5 https://developer.download.nvidia.com/compute/cuda/repos/ubuntu1804/x86_64  InRelease\n",
            "Hit:6 https://developer.download.nvidia.com/compute/machine-learning/repos/ubuntu1804/x86_64  Release\n",
            "Hit:7 http://archive.ubuntu.com/ubuntu bionic-backports InRelease\n",
            "Hit:8 http://security.ubuntu.com/ubuntu bionic-security InRelease\n",
            "Err:10 http://ppa.launchpad.net/c2d4u.team/c2d4u4.0+/ubuntu bionic InRelease\n",
            "  Could not connect to ppa.launchpad.net:80 (185.125.190.52), connection timed out\n",
            "Err:11 http://ppa.launchpad.net/cran/libgit2/ubuntu bionic InRelease\n",
            "  Unable to connect to ppa.launchpad.net:http:\n",
            "Err:12 http://ppa.launchpad.net/deadsnakes/ppa/ubuntu bionic InRelease\n",
            "  Unable to connect to ppa.launchpad.net:http:\n",
            "Err:13 http://ppa.launchpad.net/graphics-drivers/ppa/ubuntu bionic InRelease\n",
            "  Unable to connect to ppa.launchpad.net:http:\n",
            "Reading package lists... Done\n",
            "Building dependency tree       \n",
            "Reading state information... Done\n",
            "28 packages can be upgraded. Run 'apt list --upgradable' to see them.\n",
            "W: Failed to fetch http://ppa.launchpad.net/c2d4u.team/c2d4u4.0+/ubuntu/dists/bionic/InRelease  Could not connect to ppa.launchpad.net:80 (185.125.190.52), connection timed out\n",
            "W: Failed to fetch http://ppa.launchpad.net/cran/libgit2/ubuntu/dists/bionic/InRelease  Unable to connect to ppa.launchpad.net:http:\n",
            "W: Failed to fetch http://ppa.launchpad.net/deadsnakes/ppa/ubuntu/dists/bionic/InRelease  Unable to connect to ppa.launchpad.net:http:\n",
            "W: Failed to fetch http://ppa.launchpad.net/graphics-drivers/ppa/ubuntu/dists/bionic/InRelease  Unable to connect to ppa.launchpad.net:http:\n",
            "W: Some index files failed to download. They have been ignored, or old ones used instead.\n",
            "Reading package lists... Done\n",
            "Building dependency tree       \n",
            "Reading state information... Done\n",
            "xvfb is already the newest version (2:1.19.6-1ubuntu4.11).\n",
            "The following package was automatically installed and is no longer required:\n",
            "  libnvidia-common-460\n",
            "Use 'apt autoremove' to remove it.\n",
            "0 upgraded, 0 newly installed, 0 to remove and 28 not upgraded.\n",
            "Looking in indexes: https://pypi.org/simple, https://us-python.pkg.dev/colab-wheels/public/simple/\n",
            "Requirement already satisfied: gym-notebook-wrapper in /usr/local/lib/python3.7/dist-packages (1.3.2)\n",
            "Requirement already satisfied: matplotlib in /usr/local/lib/python3.7/dist-packages (from gym-notebook-wrapper) (3.2.2)\n",
            "Requirement already satisfied: gym in /usr/local/lib/python3.7/dist-packages (from gym-notebook-wrapper) (0.17.3)\n",
            "Requirement already satisfied: pyvirtualdisplay in /usr/local/lib/python3.7/dist-packages (from gym-notebook-wrapper) (3.0)\n",
            "Requirement already satisfied: ipython in /usr/local/lib/python3.7/dist-packages (from gym-notebook-wrapper) (5.5.0)\n",
            "Requirement already satisfied: cloudpickle<1.7.0,>=1.2.0 in /usr/local/lib/python3.7/dist-packages (from gym->gym-notebook-wrapper) (1.3.0)\n",
            "Requirement already satisfied: pyglet<=1.5.0,>=1.4.0 in /usr/local/lib/python3.7/dist-packages (from gym->gym-notebook-wrapper) (1.5.0)\n",
            "Requirement already satisfied: scipy in /usr/local/lib/python3.7/dist-packages (from gym->gym-notebook-wrapper) (1.7.3)\n",
            "Requirement already satisfied: numpy>=1.10.4 in /usr/local/lib/python3.7/dist-packages (from gym->gym-notebook-wrapper) (1.21.6)\n",
            "Requirement already satisfied: future in /usr/local/lib/python3.7/dist-packages (from pyglet<=1.5.0,>=1.4.0->gym->gym-notebook-wrapper) (0.16.0)\n",
            "Requirement already satisfied: simplegeneric>0.8 in /usr/local/lib/python3.7/dist-packages (from ipython->gym-notebook-wrapper) (0.8.1)\n",
            "Requirement already satisfied: traitlets>=4.2 in /usr/local/lib/python3.7/dist-packages (from ipython->gym-notebook-wrapper) (5.1.1)\n",
            "Requirement already satisfied: pygments in /usr/local/lib/python3.7/dist-packages (from ipython->gym-notebook-wrapper) (2.6.1)\n",
            "Requirement already satisfied: decorator in /usr/local/lib/python3.7/dist-packages (from ipython->gym-notebook-wrapper) (4.4.2)\n",
            "Requirement already satisfied: setuptools>=18.5 in /usr/local/lib/python3.7/dist-packages (from ipython->gym-notebook-wrapper) (57.4.0)\n",
            "Requirement already satisfied: prompt-toolkit<2.0.0,>=1.0.4 in /usr/local/lib/python3.7/dist-packages (from ipython->gym-notebook-wrapper) (1.0.18)\n",
            "Requirement already satisfied: pickleshare in /usr/local/lib/python3.7/dist-packages (from ipython->gym-notebook-wrapper) (0.7.5)\n",
            "Requirement already satisfied: pexpect in /usr/local/lib/python3.7/dist-packages (from ipython->gym-notebook-wrapper) (4.8.0)\n",
            "Requirement already satisfied: six>=1.9.0 in /usr/local/lib/python3.7/dist-packages (from prompt-toolkit<2.0.0,>=1.0.4->ipython->gym-notebook-wrapper) (1.15.0)\n",
            "Requirement already satisfied: wcwidth in /usr/local/lib/python3.7/dist-packages (from prompt-toolkit<2.0.0,>=1.0.4->ipython->gym-notebook-wrapper) (0.2.5)\n",
            "Requirement already satisfied: cycler>=0.10 in /usr/local/lib/python3.7/dist-packages (from matplotlib->gym-notebook-wrapper) (0.11.0)\n",
            "Requirement already satisfied: python-dateutil>=2.1 in /usr/local/lib/python3.7/dist-packages (from matplotlib->gym-notebook-wrapper) (2.8.2)\n",
            "Requirement already satisfied: pyparsing!=2.0.4,!=2.1.2,!=2.1.6,>=2.0.1 in /usr/local/lib/python3.7/dist-packages (from matplotlib->gym-notebook-wrapper) (3.0.9)\n",
            "Requirement already satisfied: kiwisolver>=1.0.1 in /usr/local/lib/python3.7/dist-packages (from matplotlib->gym-notebook-wrapper) (1.4.4)\n",
            "Requirement already satisfied: typing-extensions in /usr/local/lib/python3.7/dist-packages (from kiwisolver>=1.0.1->matplotlib->gym-notebook-wrapper) (4.1.1)\n",
            "Requirement already satisfied: ptyprocess>=0.5 in /usr/local/lib/python3.7/dist-packages (from pexpect->ipython->gym-notebook-wrapper) (0.7.0)\n"
          ]
        }
      ]
    },
    {
      "cell_type": "markdown",
      "source": [
        "# 8章 DQN\n",
        "DQN：Q学習とニューラルネットワークを使った手法。  \n",
        "前章から「経験再生」と「ターゲットネットワーク」が使われる。  "
      ],
      "metadata": {
        "id": "ABnEh0KblZ9m"
      }
    },
    {
      "cell_type": "markdown",
      "source": [
        "## 8.1 OpenAI Gym"
      ],
      "metadata": {
        "id": "hz6CHGGYmgm5"
      }
    },
    {
      "cell_type": "markdown",
      "source": [
        "### 8.1.1 OpenAI Gymの基礎知識"
      ],
      "metadata": {
        "id": "hKERA4XrldYU"
      }
    },
    {
      "cell_type": "code",
      "source": [
        "import gym\n",
        "env = gym.make('CartPole-v0')\n",
        "\n",
        "state = env.reset()\n",
        "print(state)\n",
        "\n",
        "action_space = env.action_space\n",
        "print(action_space)"
      ],
      "metadata": {
        "id": "SOv5rdCclgW1",
        "colab": {
          "base_uri": "https://localhost:8080/"
        },
        "outputId": "02c9e370-a5bf-4a77-e42c-45eda7267085"
      },
      "execution_count": 35,
      "outputs": [
        {
          "output_type": "stream",
          "name": "stdout",
          "text": [
            "[-0.03399667  0.02160338  0.03024511 -0.04416603]\n",
            "Discrete(2)\n"
          ]
        }
      ]
    },
    {
      "cell_type": "code",
      "source": [
        "action = 0\n",
        "next_state, reward, done, info = env.step(action)\n",
        "print(next_state)"
      ],
      "metadata": {
        "id": "O0WFV-eklj9Z",
        "colab": {
          "base_uri": "https://localhost:8080/"
        },
        "outputId": "64a55a85-7468-4945-e54c-ac22160e09d7"
      },
      "execution_count": 36,
      "outputs": [
        {
          "output_type": "stream",
          "name": "stdout",
          "text": [
            "[-0.0335646  -0.17393893  0.02936179  0.25790399]\n"
          ]
        }
      ]
    },
    {
      "cell_type": "markdown",
      "source": [
        "### 8.1.2 ランダムなエージェント"
      ],
      "metadata": {
        "id": "yX6p-bVVlylp"
      }
    },
    {
      "cell_type": "code",
      "source": [
        "import gnwrapper\n",
        "import gym\n",
        "import numpy as np\n",
        "\n",
        "env = gym.make('CartPole-v0')\n",
        "env_gnw = gnwrapper.Animation(env) # Xvfbが起動される\n",
        "\n",
        "state = env.reset()\n",
        "done = False\n",
        "\n",
        "while not done:\n",
        "  env_gnw.render() # ここで、前の描画を消し、新しいステップの描画を行う。\n",
        "  action = np.random.choice([0, 1])\n",
        "  next_state, reward, done, info = env.step(action) # 本当はDNNからアクションを入れる\n",
        "env.close()"
      ],
      "metadata": {
        "colab": {
          "base_uri": "https://localhost:8080/",
          "height": 479
        },
        "id": "gBs14lvJhrNY",
        "outputId": "298dc4fc-6436-4bd3-9f47-0874979d44cc"
      },
      "execution_count": 37,
      "outputs": [
        {
          "output_type": "display_data",
          "data": {
            "text/plain": [
              "<Figure size 432x288 with 1 Axes>"
            ],
            "image/png": "[encoded data removed]"
          },
          "metadata": {}
        },
        {
          "output_type": "display_data",
          "data": {
            "text/plain": [
              "<Figure size 432x288 with 1 Axes>"
            ],
            "image/png": "[encoded data removed]"
          },
          "metadata": {
            "needs_background": "light"
          }
        }
      ]
    },
    {
      "cell_type": "markdown",
      "source": [
        "## 8.2 DQNのコア技術\n",
        "DQNはニューラルネットワークの学習を安定させるために、経験再生とターゲットネットワークという技術を使う。"
      ],
      "metadata": {
        "id": "M-VV0EbFToa6"
      }
    },
    {
      "cell_type": "markdown",
      "source": [
        "### 8.2.1 経験再生\n",
        "エージェントが経験したデータをバッファに保存し、Q関数を更新する際には、そのバッファから経験データをランダムに取り出して使う。  \n",
        "経験再生によって、経験データ間の相関が弱まり、偏りの少ないデータが得られる。さらに、経験データを繰り返し使うことができるため、データ効率が良くなる。"
      ],
      "metadata": {
        "id": "wXRAiz5QTodm"
      }
    },
    {
      "cell_type": "markdown",
      "source": [
        "### 8.2.2 経験再生の実装"
      ],
      "metadata": {
        "id": "feLXnzPBTogV"
      }
    },
    {
      "cell_type": "code",
      "source": [
        "from collections import deque\n",
        "import random\n",
        "import numpy as np\n",
        "\n",
        "class ReplayBuffer:\n",
        "  def __init__(self, buffer_size, batch_size):\n",
        "    self.buffer = deque(maxlen=buffer_size)\n",
        "    self.batch_size = batch_size\n",
        "\n",
        "  def add(self, state, action, reward, next_state, done):\n",
        "    data = (state, action, reward, next_state, done)\n",
        "    self.buffer.append(data)\n",
        "\n",
        "  def __len__(self):\n",
        "    return len(self.buffer)\n",
        "  \n",
        "  def get_batch(self):\n",
        "    data = random.sample(self.buffer, self.batch_size)\n",
        "\n",
        "    state = np.stack([x[0] for x in data])\n",
        "    action = np.array([x[1] for x in data])\n",
        "    reward = np.array([x[2] for x in data])\n",
        "    next_state = np.stack([x[3] for x in data])\n",
        "    done = np.array([x[4] for x in data]).astype(np.int32)\n",
        "    return state, action, reward, next_state, done\n"
      ],
      "metadata": {
        "id": "196fnf_gVhWn"
      },
      "execution_count": 38,
      "outputs": []
    },
    {
      "cell_type": "code",
      "source": [
        "import gym\n",
        "\n",
        "env = gym.make('CartPole-v0')\n",
        "replay_buffer = ReplayBuffer(buffer_size=10000, batch_size=32)\n",
        "\n",
        "for episode in range(10):\n",
        "  state = env.reset()\n",
        "  done = False\n",
        "\n",
        "  while not done:\n",
        "    action = 0\n",
        "    next_state, reward, done, info = env.step(action)\n",
        "    replay_buffer.add(state, action, reward, next_state, done)\n",
        "    state = next_state\n",
        "\n",
        "state, action, reward, next_state, done = replay_buffer.get_batch()\n",
        "print(state.shape)\n",
        "print(action.shape)\n",
        "print(reward.shape)\n",
        "print(next_state.shape)\n",
        "print(done.shape)\n"
      ],
      "metadata": {
        "colab": {
          "base_uri": "https://localhost:8080/"
        },
        "id": "YcgsLP2EXaeG",
        "outputId": "f509996b-174d-4797-92bf-6ae130203e5a"
      },
      "execution_count": 39,
      "outputs": [
        {
          "output_type": "stream",
          "name": "stdout",
          "text": [
            "(32, 4)\n",
            "(32,)\n",
            "(32,)\n",
            "(32, 4)\n",
            "(32,)\n"
          ]
        }
      ]
    },
    {
      "cell_type": "markdown",
      "source": [
        "### 8.2.1 ターゲットネットワーク\n",
        "Q学習では、Q (St、At)の値がRt+r*maxQ(St+1, α)：TDターゲット　  \n",
        "となるようにQ関数を更新する。TDターゲットの値は、Q関数が更新されると変動する。これを固定する。  \n",
        "オリジナルのネットワークqnetと同じ構造のネットワークqnet_targetを用意し、定期的にqnetの重みと同期するようにして、それ以外は重みパラメータを固定する。  \n",
        "qnet_targetを使って、TDターゲットの値を計算すれば、教師レベルであるTDターゲットの変動が抑えられる。これにより、TDターゲットが（常には）変動しないので、ニューラルネットワークの学習が安定することが期待される。"
      ],
      "metadata": {
        "id": "6AQRRDcsaAWn"
      }
    },
    {
      "cell_type": "markdown",
      "source": [
        "### 8.2.4 ターゲットネットワークの実装\n"
      ],
      "metadata": {
        "id": "Uicxud_oZ4A7"
      }
    },
    {
      "cell_type": "code",
      "source": [
        "import copy\n",
        "from dezero import Model\n",
        "from dezero import optimizers\n",
        "import dezero.functions as F\n",
        "import dezero.layers as L\n",
        "\n",
        "class QNet(Model):\n",
        "  def __init__(self, action_size):\n",
        "    super().__init__()\n",
        "    self.l1 = L.Linear(128)\n",
        "    self.l2 = L.Linear(128)\n",
        "    self.l3 = L.Linear(action_size)\n",
        "\n",
        "  def forward(self, x):\n",
        "    x = F.relu(self.l1(x))\n",
        "    x = F.relu(self.l2(x))\n",
        "    x = self.l3(x)\n",
        "    return x\n",
        "\n",
        "class DQNAgent:\n",
        "  def __init__(self):\n",
        "    self.gamma = 0.98\n",
        "    self.lr = 0.0005\n",
        "    self.epsilon = 0.1\n",
        "    self.buffer_size = 10000\n",
        "    self.batch_size = 32\n",
        "    self.action_size = 2\n",
        "\n",
        "    self.replay_buffer = ReplayBuffer(self.buffer_size, self.batch_size)\n",
        "    self.qnet = QNet(self.action_size)\n",
        "    self.qnet_target = QNet(self.action_size)\n",
        "    self.optimizer = optimizers.Adam(self.lr)\n",
        "    self.optimizer.setup(self.qnet)#qnetを設定\n",
        "\n",
        "  def sync_qnet(self):\n",
        "    self.qnet_target = copy.deepcopy(self.qnet)\n",
        "\n",
        "  def get_action(self, state):\n",
        "    if np.random.rand() < self.epsilon:\n",
        "      return np.random.choice(self.action_size)\n",
        "    else:\n",
        "      state = state[np.newaxis, :]\n",
        "      qs = self.qnet(state)\n",
        "      return qs.data.argmax()\n",
        "\n",
        "  def update(self, state, action, reward, next_state, done):\n",
        "    self.replay_buffer.add(state, action, reward, next_state, done)\n",
        "    if len(self.replay_buffer) < self.batch_size:\n",
        "      return\n",
        "\n",
        "    state, action, reward, next_state, done = self.replay_buffer.get_batch()\n",
        "    qs = self.qnet(state)#①\n",
        "    q = qs[np.arange(self.batch_size), action]#②\n",
        "\n",
        "    next_qs = self.qnet_target(next_state)#③\n",
        "    next_q = next_qs.max(axis=1)\n",
        "    next_q.unchain()\n",
        "    target = reward + (1 - done) * self.gamma * next_q#④\n",
        "\n",
        "    loss = F.mean_squared_error(q, target)\n",
        "\n",
        "    self.qnet.cleargrads()\n",
        "    loss.backward()\n",
        "    self.optimizer.update()"
      ],
      "metadata": {
        "id": "-TYfjRy4Z9AW"
      },
      "execution_count": 40,
      "outputs": []
    },
    {
      "cell_type": "markdown",
      "source": [
        "### 8.2.5 DQNを動かす"
      ],
      "metadata": {
        "id": "tv-G1JuMs8J0"
      }
    },
    {
      "cell_type": "code",
      "source": [
        "episodes = 300\n",
        "sync_interval = 20\n",
        "env = gym.make('CartPole-v0')\n",
        "agent = DQNAgent()\n",
        "reward_histrory = []\n",
        "\n",
        "for episode in range(episodes):\n",
        "  state = env.reset()\n",
        "  done = False\n",
        "  total_reward = 0\n",
        "\n",
        "  while not done:\n",
        "    action = agent.get_action(state)\n",
        "    next_state, reward, done, info = env.step(action)\n",
        "\n",
        "    agent.update(state, action, reward, next_state, done)\n",
        "    state = next_state\n",
        "    total_reward += reward\n",
        "\n",
        "  if episode % sync_interval == 0:\n",
        "    agent.sync_qnet()\n",
        "\n",
        "  reward_histrory.append(total_reward)"
      ],
      "metadata": {
        "id": "v-JcLW6-juJJ"
      },
      "execution_count": 41,
      "outputs": []
    },
    {
      "cell_type": "code",
      "source": [
        "plt.plot(reward_histrory)"
      ],
      "metadata": {
        "id": "eH2MF-3YvA_7",
        "colab": {
          "base_uri": "https://localhost:8080/",
          "height": 282
        },
        "outputId": "7cd1e84b-a08b-4aef-eb5c-6a078db6c714"
      },
      "execution_count": 42,
      "outputs": [
        {
          "output_type": "execute_result",
          "data": {
            "text/plain": [
              "[<matplotlib.lines.Line2D at 0x7f039de5d950>]"
            ]
          },
          "metadata": {},
          "execution_count": 42
        },
        {
          "output_type": "display_data",
          "data": {
            "text/plain": [
              "<Figure size 432x288 with 1 Axes>"
            ],
            "image/png": "[encoded data removed]"
          },
          "metadata": {
            "needs_background": "light"
          }
        }
      ]
    },
    {
      "cell_type": "code",
      "source": [
        "agent.epsilon = 0 #greedy policy\n",
        "state = env.reset()\n",
        "done = False\n",
        "total_reward = 0\n",
        "cnt = 0\n",
        "\n",
        "while not done:\n",
        "  action = agent.get_action(state)\n",
        "  next_state, reward, done, info, = env.step(action)\n",
        "  state = next_state\n",
        "  total_reward += reward\n",
        "  env_gnw = gnwrapper.Animation(env) # Xvfbが起動される\n",
        "  env_gnw.render() # ここで、前の描画を消し、新しいステップの描画を行う。\n",
        "  cnt += 1\n",
        "  if cnt > 10:\n",
        "    done = True"
      ],
      "metadata": {
        "id": "7MmtKO7lXhkm",
        "colab": {
          "base_uri": "https://localhost:8080/",
          "height": 479
        },
        "outputId": "4d07c17e-da2c-4868-b5ce-0b9a766ffa1d"
      },
      "execution_count": 43,
      "outputs": [
        {
          "output_type": "display_data",
          "data": {
            "text/plain": [
              "<Figure size 432x288 with 1 Axes>"
            ],
            "image/png": "[encoded data removed]"
          },
          "metadata": {}
        },
        {
          "output_type": "display_data",
          "data": {
            "text/plain": [
              "<Figure size 432x288 with 1 Axes>"
            ],
            "image/png": "[encoded data removed]"
          },
          "metadata": {
            "needs_background": "light"
          }
        }
      ]
    },
    {
      "cell_type": "code",
      "source": [
        "print('Total Reward:', total_reward)"
      ],
      "metadata": {
        "id": "l5zbwRbSYeIF",
        "colab": {
          "base_uri": "https://localhost:8080/"
        },
        "outputId": "fc925c33-2e28-44b7-ba90-2e4a11a018fa"
      },
      "execution_count": 44,
      "outputs": [
        {
          "output_type": "stream",
          "name": "stdout",
          "text": [
            "Total Reward: 11.0\n"
          ]
        }
      ]
    },
    {
      "cell_type": "markdown",
      "source": [
        "## 8.3 DQNとAtari\n",
        "DQN:2013年に発表、2015年にNatureに掲載。\n",
        "Atari：コンピュータゲームを制作する会社の名前"
      ],
      "metadata": {
        "id": "CZm4bKeqZ7S9"
      }
    },
    {
      "cell_type": "markdown",
      "source": [
        "### 8.3.1 Atariのゲーム環境\n",
        "Atariを利用するには、別途インストールが必要。  "
      ],
      "metadata": {
        "id": "4MD2DCCsa5G4"
      }
    },
    {
      "cell_type": "markdown",
      "source": [
        "### 8.3.2 前処理\n",
        "強化学習の理論は、マルコフ決定過程を前提。  \n",
        "ゲームの場合、前状態が必要となる。  \n",
        "このような問題はPOMDP(部分観測マルコフ決定過程：Partially Observable Markov Decision Process）と言う。  \n",
        "\n",
        "DQNの論文では、４フレームの連続する画像を重ね合わせ、それを一つの「状態」として扱う。連続する画像を扱うことで、状態の遷移が分かる。これで今まで通りMDPとして扱う。  \n",
        "\n",
        "POMDPで有力な手法はRNNを使った手法。RNNを用いると、過去に入力されたデータを引き継いで計算することができる。  \n",
        "\n",
        "DQNの論文では、フレームを重ねる前に以下の固定の処理を実施。\n",
        "- 画像の周囲をトリミング\n",
        "- グレイスケールへの変換\n",
        "- 画像のリサイズ\n",
        "- 正規化  \n",
        "これらの処理を行った上で、フレームを4つ重ねる作業を行う。"
      ],
      "metadata": {
        "id": "JlzW1e2Ca5J6"
      }
    },
    {
      "cell_type": "markdown",
      "source": [
        "### 8.3.3 CNN\n",
        "カートポールでは、全結合層からなるNNを使った。  \n",
        "Atariのような画像データを扱う場合にはCNNが有効。  \n",
        "DQNの論文では、図8-11の構造が使われた。"
      ],
      "metadata": {
        "id": "X4egxDH2a5N-"
      }
    },
    {
      "cell_type": "markdown",
      "source": [
        "### 8.3.4 その他の工夫\n",
        "- GPUの使用：画像データを扱う場合、データサイズが大きくなり、学習に要する計算量も大きくなる。この計算を高速化するには、GPU（やTPU）などを使って並列計算を行うことが有効。\n",
        "- εの調整：初期の段階では、エージェントに多くの探索を行わせ、学習が進に連れて探索を減らす。ε-greedy法でこのアイデアを実現するためには、エージェントが行動を重ねるに従ってεを減らす。  \n",
        "DQNの論文では、最初の100万ステップはεを１.０から０.１まで線形に減少させ、それ以降はε=0.1で固定する方式が採用された。\n",
        "- 報酬クリッピング：DQNの論文では、報酬を-1.0~1.0の範囲に収まるように調整し、報酬のスケールを揃えることで学習を円滑化している。  "
      ],
      "metadata": {
        "id": "XAuRbZZGa5RY"
      }
    },
    {
      "cell_type": "markdown",
      "source": [
        "## 8.4 DQNの拡張"
      ],
      "metadata": {
        "id": "LTMWeJvMa5T2"
      }
    },
    {
      "cell_type": "markdown",
      "source": [
        "### 8.4.1　Double DQN\n",
        "DQNでは、TDターゲットに近づけるように学習する。  \n",
        "ここで問題になるのが、誤差が含まれる推定値Qθ'に対してmax演算子を使うと、真のQ関数を使って計算する場合に比べて過大に評価されてしまう。  \n",
        "この問題を解決するのがDouble DQN。Double DQNでは別のQ関数を使って最大となる行動を選べ、実際の値はQθ'から取得する。このような2つのQ関数を使い分けることで、過大評価が解消され、学習が安定する。"
      ],
      "metadata": {
        "id": "FPTMz1Xja5WV"
      }
    },
    {
      "cell_type": "markdown",
      "source": [
        "### 8.4.2 優先度付き経験再生\n",
        "優先度付き経験再生：経験データをランダムに選ぶのではなく、優先度に応じて選ぶ。\n",
        "TDターゲットであるRt+rmaxQθ'(St+1, a)とQθ(St, At)の差分を取り、絶対値を求めてδtとする。δtが大きければ、それだけ修正すべきことが大きい、つまり、学ぶことが大きい。"
      ],
      "metadata": {
        "id": "lRhptE5-a5ZB"
      }
    },
    {
      "cell_type": "markdown",
      "source": [
        "### 8.4.3 Dueling DQN\n",
        "Dueling DQN：NNの構造を工夫した手法。この手法でキーとなるのが、アドバンテージ構造。  \n",
        "Aπ(s,a) = Qπ(s,a)-Vπ(s)\n",
        "- Qπ(s,a)：状態sにおいて、「特定の行動a」を行い、それ以降はπに従って行動したときに得られる収益の期待値\n",
        "- Vπ(s)：状態sにおいて以降すべて方策πに従って行動したときに得られる収益の期待値  \n",
        "つまり、両者の違いは、状態sにおいて行動aを行うか、それとも方策πに従って行動を選ぶかの違い。アドバンテージ関数は、「aという行動」が「方策πで選ばれる行動」に比べてどれだけ良いかを示す指標と解釈できる。  \n",
        "アドバンテージ関数と価値関数に枝分かれして学習し、最後に加算する。  \n",
        "Qπ(s,a) = Aπ(s,a) + Vπ(s)  \n",
        "このように学習する利点：行動に関わらず結果が決まっている状態であっても、全ての行動を試さなければQ(s,a)が学習されない。一方、Dueling DQNは行動を考慮しない価値関数V(s)を経由する。それによって、他の行動を試さなくてもQ(s,a)の近似性能が改善する。"
      ],
      "metadata": {
        "id": "bGRqpi6da5b8"
      }
    },
    {
      "cell_type": "markdown",
      "source": [
        "## 8.5 まとめ"
      ],
      "metadata": {
        "id": "wUcXZiCca5fY"
      }
    },
    {
      "cell_type": "markdown",
      "source": [
        "# 9章 方策勾配法\n",
        "価値ベースの手法の他に、価値関数を経由せずに方策を直接表す手法もある  \n",
        "→方策ベースの手法  \n",
        "方策勾配法：方策をNNなどでモデル化し、勾配を使って方策を最適かする手法を方策\n"
      ],
      "metadata": {
        "id": "jL_TWHH_a5iv"
      }
    },
    {
      "cell_type": "markdown",
      "source": [
        "## 9.1 最も単純な方策勾配法\n",
        "方策勾配法：勾配を使って方策を更新する手法の総称。"
      ],
      "metadata": {
        "id": "ecNyqNWKa5l5"
      }
    },
    {
      "cell_type": "markdown",
      "source": [
        "### 9.1.1 方策勾配法の導出\n",
        "πθ(a|s)：方策をNNによりモデル化（全ての重みパラメータをθとする）  \n",
        "続いて、方策πθを使って目的関数を設定し、目的関数を最大化するパラメータθを見つける→最適化。  \n",
        "最適化問題\n",
        "- 損失関数：勾配降下法により最小値を探す\n",
        "- 目的関数：勾配上昇法により最大値を探す\n",
        "\n",
        "「状態、行動、報酬」からなる時系列データτ  \n",
        "τ：軌道  \n",
        "τ = (S0, A0, R0, S1, A1, R1,・・・,St+1)  \n",
        "G(τ）：収益  \n",
        "G(τ）= R0+rR1+r^2R2+・・・+r^TRT  \n",
        "J(θ)：目的関数  \n",
        "J(θ）= Er〜πθ［G(τ)］  \n",
        "目的関数から勾配を求める。  \n",
        "▽θJ(θ)=▽θEr〜πθ［G(τ)］=略  \n",
        "更新式は、  \n",
        "θ←θ+α▽θJ(θ)  \n",
        "α：学習率  "
      ],
      "metadata": {
        "id": "ojlFXj2sa5pJ"
      }
    },
    {
      "cell_type": "markdown",
      "source": [
        "### 9.1.2 方策勾配法のアルゴリズム\n",
        "勾配は期待値として表され、この期待値はモンテカルロ法によって求められる。方策πθのエージェントに実際に行動させ、軌道τをn個得たとする。\n",
        "勾配を全ての時刻で求め、各勾配に重みとして収益G(τ)を掛けて、それらの和を求める。  \n",
        "収益を掛けることにより、うまく行った場合に、うまく行った分だけ取った行動が強められる。"
      ],
      "metadata": {
        "id": "1shySTeCa5s-"
      }
    },
    {
      "cell_type": "markdown",
      "source": [
        "### 9.1.3 方策勾配法の実装"
      ],
      "metadata": {
        "id": "PY_KF0PJgroi"
      }
    },
    {
      "cell_type": "code",
      "source": [
        "import numpy as np\n",
        "import gym\n",
        "from dezero import Model\n",
        "from dezero import optimizers\n",
        "import dezero.functions as F\n",
        "import dezero.layers as L\n",
        "\n",
        "class Policy(Model):\n",
        "  def __init__(self, action_size):\n",
        "    super().__init__()\n",
        "    self.l1 = L.Linear(128)\n",
        "    self.l2 = L.Linear(action_size)\n",
        "\n",
        "  def forward(self, x):\n",
        "    x = F.relu(self.l1(x))\n",
        "    x = F.softmax(self.l2(x))\n",
        "    return x"
      ],
      "metadata": {
        "id": "RFxNUgB2hC_a"
      },
      "execution_count": 53,
      "outputs": []
    },
    {
      "cell_type": "code",
      "source": [
        "class Agent:\n",
        "  def __init__(self):\n",
        "    self.gamma = 0.98\n",
        "    self.lr = 0.0002\n",
        "    self.action_size = 2\n",
        "\n",
        "    self.memory = []\n",
        "    self.pi = Policy(self.action_size)\n",
        "    self.optimizer = optimizers.Adam(self.lr)\n",
        "    self.optimizer.setup(self.pi)\n",
        "\n",
        "  def get_action(self, state):\n",
        "    state = state[np.newaxis, :]#バッチの軸を追加\n",
        "    probs = self.pi(state)\n",
        "    probs = probs[0]\n",
        "    action =  np.random.choice(len(probs), p=probs.data)\n",
        "    return action, probs[action]\n",
        "\n",
        "  def add(self, reward, prob):\n",
        "    data = (reward, prob)\n",
        "    self.memory.append(data)\n",
        "\n",
        "  def update(self):\n",
        "    self.pi.cleargrads()\n",
        "\n",
        "    G, loss = 0, 0\n",
        "    for reward, prob in reversed(self.memory):\n",
        "      G = reward + self.gamma * G\n",
        "\n",
        "    for reward, prob in self.memory:\n",
        "      loss += -F.log(prob) * G\n",
        "\n",
        "    loss.backward()\n",
        "    self.optimizer.update()\n",
        "    self.memory = [] #メモリをリセット"
      ],
      "metadata": {
        "id": "TC3a2wuskwI4"
      },
      "execution_count": 54,
      "outputs": []
    },
    {
      "cell_type": "code",
      "source": [
        "env = gym.make('CartPole-v0')\n",
        "state = env.reset()\n",
        "agent = Agent()\n",
        "\n",
        "action, prob = agent.get_action(state)\n",
        "print('action:', action)\n",
        "print('prob:', prob)\n",
        "\n",
        "G = 100.0 #ダミーの重み\n",
        "J = G * F.log(prob)\n",
        "print('J:', J)\n",
        "\n",
        "#勾配を求める\n",
        "J.backward()"
      ],
      "metadata": {
        "colab": {
          "base_uri": "https://localhost:8080/"
        },
        "id": "vW92_BBLnna6",
        "outputId": "36820691-42ae-4eb9-9386-10c89dfd73ee"
      },
      "execution_count": 55,
      "outputs": [
        {
          "output_type": "stream",
          "name": "stdout",
          "text": [
            "action: 0\n",
            "prob: variable(0.5187533770023086)\n",
            "J: variable(-65.63266975744499)\n"
          ]
        }
      ]
    },
    {
      "cell_type": "code",
      "source": [
        "episodes = 3000\n",
        "env = gym.make('CartPole-v0')\n",
        "agent = Agent()\n",
        "reward_histrory = []\n",
        "\n",
        "for episode in range(episodes):\n",
        "  state = env.reset()\n",
        "  done = False\n",
        "  total_reward = 0\n",
        "\n",
        "  while not done:\n",
        "    action, prob = agent.get_action(state)\n",
        "    next_state, reward, done, info = env.step(action)\n",
        "\n",
        "    agent.add(reward, prob)\n",
        "    state = next_state\n",
        "    total_reward += reward\n",
        "\n",
        "  agent.update()\n",
        "  reward_histrory.append(total_reward)"
      ],
      "metadata": {
        "id": "347o361rrVu2"
      },
      "execution_count": 56,
      "outputs": []
    },
    {
      "cell_type": "code",
      "source": [
        "plt.plot(reward_histrory)"
      ],
      "metadata": {
        "colab": {
          "base_uri": "https://localhost:8080/",
          "height": 282
        },
        "id": "j9sBCYxAvTn5",
        "outputId": "f2b902f3-d81d-41a5-be9c-df8c60d84b27"
      },
      "execution_count": 58,
      "outputs": [
        {
          "output_type": "execute_result",
          "data": {
            "text/plain": [
              "[<matplotlib.lines.Line2D at 0x7f039b7a5110>]"
            ]
          },
          "metadata": {},
          "execution_count": 58
        },
        {
          "output_type": "display_data",
          "data": {
            "text/plain": [
              "<Figure size 432x288 with 1 Axes>"
            ],
            "image/png": "[encoded data removed]"
          },
          "metadata": {
            "needs_background": "light"
          }
        }
      ]
    },
    {
      "cell_type": "markdown",
      "source": [
        "## 9.2 REINFORCE\n",
        "REINFORCE：方策勾配法を改善した手法"
      ],
      "metadata": {
        "id": "X_-OROK0wy3K"
      }
    },
    {
      "cell_type": "markdown",
      "source": [
        "### 9.2.1 REINFORCEのアルゴリズム\n",
        "方策勾配法の重みG(τ)は時刻tよりも前の報酬も含まれる。  \n",
        "これを以下のように変更し、ノイズを除去する。  \n",
        "Gt= Rt+rRt+1+・・・+r^T-tRT  \n"
      ],
      "metadata": {
        "id": "AQR3R9AXwzDf"
      }
    },
    {
      "cell_type": "markdown",
      "source": [
        "### 9.2.2 REINFORCEの実装"
      ],
      "metadata": {
        "id": "NyPUHzpEzFGu"
      }
    },
    {
      "cell_type": "code",
      "source": [
        "class Agent:\n",
        "  def __init__(self):\n",
        "    self.gamma = 0.98\n",
        "    self.lr = 0.0002\n",
        "    self.action_size = 2\n",
        "\n",
        "    self.memory = []\n",
        "    self.pi = Policy(self.action_size)\n",
        "    self.optimizer = optimizers.Adam(self.lr)\n",
        "    self.optimizer.setup(self.pi)\n",
        "\n",
        "  def get_action(self, state):\n",
        "    state = state[np.newaxis, :]#バッチの軸を追加\n",
        "    probs = self.pi(state)\n",
        "    probs = probs[0]\n",
        "    action =  np.random.choice(len(probs), p=probs.data)\n",
        "    return action, probs[action]\n",
        "\n",
        "  def add(self, reward, prob):\n",
        "    data = (reward, prob)\n",
        "    self.memory.append(data)\n",
        "\n",
        "  def update(self):\n",
        "    self.pi.cleargrads()\n",
        "\n",
        "    G, loss = 0, 0\n",
        "    for reward, prob in reversed(self.memory):\n",
        "      G = reward + self.gamma * G\n",
        "      loss += -F.log(prob) * G\n",
        "\n",
        "    loss.backward()\n",
        "    self.optimizer.update()\n",
        "    self.memory = [] #メモリをリセット"
      ],
      "metadata": {
        "id": "NnWce46tzD_S"
      },
      "execution_count": 59,
      "outputs": []
    },
    {
      "cell_type": "code",
      "source": [
        "episodes = 3000\n",
        "env = gym.make('CartPole-v0')\n",
        "agent = Agent()\n",
        "reward_histrory = []\n",
        "\n",
        "for episode in range(episodes):\n",
        "  state = env.reset()\n",
        "  done = False\n",
        "  total_reward = 0\n",
        "\n",
        "  while not done:\n",
        "    action, prob = agent.get_action(state)\n",
        "    next_state, reward, done, info = env.step(action)\n",
        "\n",
        "    agent.add(reward, prob)\n",
        "    state = next_state\n",
        "    total_reward += reward\n",
        "\n",
        "  agent.update()\n",
        "  reward_histrory.append(total_reward)"
      ],
      "metadata": {
        "id": "614lbujBz2Kr"
      },
      "execution_count": 60,
      "outputs": []
    },
    {
      "cell_type": "code",
      "source": [
        "plt.plot(reward_histrory)"
      ],
      "metadata": {
        "colab": {
          "base_uri": "https://localhost:8080/",
          "height": 282
        },
        "id": "l_ix5I8cz2wZ",
        "outputId": "39f400f8-e642-470e-842d-eb98c8b90b96"
      },
      "execution_count": 61,
      "outputs": [
        {
          "output_type": "execute_result",
          "data": {
            "text/plain": [
              "[<matplotlib.lines.Line2D at 0x7f039b614cd0>]"
            ]
          },
          "metadata": {},
          "execution_count": 61
        },
        {
          "output_type": "display_data",
          "data": {
            "text/plain": [
              "<Figure size 432x288 with 1 Axes>"
            ],
            "image/png": "[encoded data removed]"
          },
          "metadata": {
            "needs_background": "light"
          }
        }
      ]
    },
    {
      "cell_type": "markdown",
      "source": [
        "## 9.3 ベースライン"
      ],
      "metadata": {
        "id": "kI1TLsF4z9hY"
      }
    },
    {
      "cell_type": "markdown",
      "source": [
        "### 9.3.1 ベースラインのアイデア\n",
        "ある結果に対して予測値を引くことで分散を減らすことができる。"
      ],
      "metadata": {
        "id": "Fi0IF7K00Hq1"
      }
    },
    {
      "cell_type": "markdown",
      "source": [
        "### 9.3.2 ベースライン付きの方策勾配法\n",
        "勾配の式のGtの代わりにGt-b(St)を使うことができる。  \n",
        "ここでb(St)は任意の関数。  \n",
        "このb(St)がベースラインと呼ばれる。  \n",
        "よく用いられるのは価値関数で、b(St)=Vπθ(St)となる。  \n",
        "ベースラインを使うことで、学習の無駄を省くことができる。"
      ],
      "metadata": {
        "id": "uOD3K-o55FCD"
      }
    },
    {
      "cell_type": "markdown",
      "source": [
        "### 9.4 Actor-Critic\n",
        "Actor-Critic：「価値ベースかつ方策ベース」の手法"
      ],
      "metadata": {
        "id": "sdDWSiMp5IdU"
      }
    },
    {
      "cell_type": "markdown",
      "source": [
        "### 9.4.1 Actor-Criticの導出\n",
        "TD法ではGtの代わりにRt+rVw(St+1)を用いる。"
      ],
      "metadata": {
        "id": "GV_8_Izb5JIt"
      }
    },
    {
      "cell_type": "markdown",
      "source": [
        "### 9.4.2 Actor-Criticの実装"
      ],
      "metadata": {
        "id": "HpcIeSkF5Jdy"
      }
    },
    {
      "cell_type": "code",
      "source": [
        "import numpy as np\n",
        "import gym\n",
        "from dezero import Model\n",
        "from dezero import optimizers\n",
        "import dezero.functions as F\n",
        "import dezero.layers as L\n",
        "\n",
        "class PolicyNet(Model):\n",
        "  def __init__(self, action_size=2):\n",
        "    super().__init__()\n",
        "    self.l1 = L.Linear(128)\n",
        "    self.l2 = L.Linear(action_size)\n",
        "\n",
        "  def forward(self, x):\n",
        "    x = F.relu(self.l1(x))\n",
        "    x = self.l2(x)\n",
        "    x = F.softmax(x)\n",
        "    return x\n",
        "\n",
        "class ValueNet(Model):\n",
        "  def __init__(self):\n",
        "    self.l1 = L.Linear(128)\n",
        "    self.l2 = L.Linear(1)\n",
        "\n",
        "    def forward(self, x):\n",
        "      x = F.relu(self.l1(x))\n",
        "      x = self.l2(x)\n",
        "      return x"
      ],
      "metadata": {
        "id": "7AHOS5-ID6Y9"
      },
      "execution_count": 62,
      "outputs": []
    },
    {
      "cell_type": "code",
      "source": [
        "class Agent:\n",
        "  def __init__(self):\n",
        "    self.gamma = 0.98\n",
        "    self.lr_pi = 0.0002\n",
        "    self.lr_v = 0.0005\n",
        "    self.action_size = 2\n",
        "\n",
        "    self.pi = PolicyNet()\n",
        "    self.v = ValueNet()\n",
        "    self.optimizer_pi = optimizers.Adam(self.lr_pi).setup(self.pi)\n",
        "    self.optimizer_v = optimizers.Adam(self.lr_v).setup(self.v)\n",
        "    self.optimizer.setup(self.pi)\n",
        "\n",
        "  def get_action(self, state):\n",
        "    state = state[np.newaxis, :]#バッチの軸を追加\n",
        "    probs = self.pi(state)\n",
        "    probs = probs[0]\n",
        "    action =  np.random.choice(len(probs), p=probs.data)\n",
        "    return action, probs[action]\n",
        "\n",
        "  def update():\n"
      ],
      "metadata": {
        "id": "hJ7kDf0WFReQ"
      },
      "execution_count": null,
      "outputs": []
    }
  ]
}
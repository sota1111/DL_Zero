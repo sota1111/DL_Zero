{
 "cells": [
  {
   "attachments": {},
   "cell_type": "markdown",
   "metadata": {},
   "source": [
    "# 8章 MNISTを使った数字認識"
   ]
  },
  {
   "cell_type": "code",
   "execution_count": null,
   "metadata": {},
   "outputs": [],
   "source": [
    "import matplotlib.pyplot as plt\n",
    "import numpy as np\n",
    "import torch\n",
    "import torch.nn as nn\n",
    "import torchvision.datasets as datasets\n",
    "import torchvision.transforms as transforms\n",
    "import torch.optim as optim\n",
    "from torchviz import make_dot\n",
    "from tqdm import tqdm\n"
   ]
  },
  {
   "cell_type": "code",
   "execution_count": null,
   "metadata": {},
   "outputs": [],
   "source": [
    "relu = nn.ReLU()\n",
    "x_np = np.arange(-2, 2.1, 0.25)\n",
    "x    = torch.tensor(x_np).float()\n",
    "y = relu(x)\n",
    "\n",
    "plt.plot(x.data, y.data)\n",
    "plt.title('ReLU関数')\n",
    "plt.show()"
   ]
  },
  {
   "cell_type": "code",
   "execution_count": null,
   "metadata": {},
   "outputs": [],
   "source": [
    "device = torch.device(\"cuda:0\" if torch.cuda.is_available() else \"cpu\")\n",
    "print(device)# cudaが利用可能だと0"
   ]
  },
  {
   "attachments": {},
   "cell_type": "markdown",
   "metadata": {},
   "source": [
    "## 8.8 データ準備1(データセットによる読み込み)"
   ]
  },
  {
   "cell_type": "code",
   "execution_count": null,
   "metadata": {},
   "outputs": [],
   "source": [
    "data_root = './data'\n",
    "train_set0 = datasets.MNIST(\n",
    "    root = data_root,\n",
    "    train = True,\n",
    "    download = True\n",
    ")\n",
    "!ls -lR ./data/MNIST"
   ]
  },
  {
   "cell_type": "code",
   "execution_count": null,
   "metadata": {},
   "outputs": [],
   "source": [
    "print(\"データ件数：\", len(train_set0))\n",
    "image, label = train_set0[0]\n",
    "print(\"入力データの型：\", type(image))\n",
    "print(\"正解データの型：\", type(label))"
   ]
  },
  {
   "cell_type": "code",
   "execution_count": null,
   "metadata": {},
   "outputs": [],
   "source": [
    "plt.figure(figsize=(1,1))\n",
    "plt.title(f'{label}')\n",
    "plt.imshow(image, cmap=\"gray_r\")\n",
    "plt.axis(\"off\")\n",
    "plt.show()"
   ]
  },
  {
   "cell_type": "code",
   "execution_count": null,
   "metadata": {},
   "outputs": [],
   "source": [
    "plt.figure(figsize=(10,3))\n",
    "for i in range(20):\n",
    "    ax = plt.subplot(2,10,i+1)\n",
    "    image, label = train_set0[i]\n",
    "    plt.imshow(image, cmap=\"gray_r\")\n",
    "    ax.set_title(f'{label}')\n",
    "    ax.get_xaxis().set_visible(False)\n",
    "    ax.get_yaxis().set_visible(False)\n",
    "plt.show()"
   ]
  },
  {
   "attachments": {},
   "cell_type": "markdown",
   "metadata": {},
   "source": [
    "## 8.9 データ準備2(Transformsによるデータ前処理)"
   ]
  },
  {
   "cell_type": "code",
   "execution_count": null,
   "metadata": {},
   "outputs": [],
   "source": [
    "# ToTensor：入力データの形式をPyTorchで扱えるテンソル形式に変換する\n",
    "transform1 = transforms.Compose([\n",
    "    transforms.ToTensor(),\n",
    "])\n",
    "train_set1 = datasets.MNIST(\n",
    "    root=data_root, \n",
    "    train=True, \n",
    "    download=True,\n",
    "    transform = transform1\n",
    ")"
   ]
  },
  {
   "cell_type": "code",
   "execution_count": null,
   "metadata": {},
   "outputs": [],
   "source": [
    "image, label = train_set1[0]\n",
    "print(\"入力データの型：\", type(image))\n",
    "print(\"入力データのshape：\", image.shape)\n",
    "print(\"Min: \", image.data.min())\n",
    "print(\"Max: \", image.data.max())"
   ]
  },
  {
   "cell_type": "code",
   "execution_count": null,
   "metadata": {},
   "outputs": [],
   "source": [
    "# データの範囲を[-1, 1]になるように正規化\n",
    "# Normalize:X=(x-u)/σ（u=σ=0.5)\n",
    "transform2 = transforms.Compose([\n",
    "    transforms.ToTensor(),\n",
    "    transforms.Normalize(0.5, 0.5),\n",
    "])\n",
    "\n",
    "train_set2 = datasets.MNIST(\n",
    "    root = data_root, \n",
    "    train=True, \n",
    "    download=True, \n",
    "    transform=transform2\n",
    ")\n",
    "\n",
    "image, label = train_set2[0]\n",
    "print(\"入力データの型：\", type(image))\n",
    "print(\"入力データのshape：\", image.shape)\n",
    "print(\"Min: \", image.data.min())\n",
    "print(\"Max: \", image.data.max())"
   ]
  },
  {
   "cell_type": "code",
   "execution_count": null,
   "metadata": {},
   "outputs": [],
   "source": [
    "# Lambdaクラスを利用して１次元化\n",
    "# テンソルではreshapeではなく、viewを用いる\n",
    "transform3 = transforms.Compose([\n",
    "    transforms.ToTensor(),\n",
    "    transforms.Normalize(0.5, 0.5),\n",
    "    transforms.Lambda(lambda x: x.view(-1)),\n",
    "])\n",
    "\n",
    "train_set3 = datasets.MNIST(\n",
    "    root = data_root, \n",
    "    train=True, \n",
    "    download=True, \n",
    "    transform=transform3\n",
    ")\n",
    "\n",
    "image, label = train_set3[0]\n",
    "print(\"入力データの型: \", type(image))\n",
    "print(\"入力データのshape: \", image.shape)\n",
    "print(\"Min: \", image.data.min())\n",
    "print(\"Max: \", image.data.max())"
   ]
  },
  {
   "cell_type": "code",
   "execution_count": null,
   "metadata": {},
   "outputs": [],
   "source": [
    "# 最終的なデータセットの定義\n",
    "transform = transforms.Compose([\n",
    "    transforms.ToTensor(),\n",
    "    transforms.Normalize(0.5, 0.5),\n",
    "    transforms.Lambda(lambda x: x.view(-1)),\n",
    "])\n",
    "train_set = datasets.MNIST(\n",
    "    root = data_root, train=True, download=True, transform=transform\n",
    ")\n",
    "test_set = datasets.MNIST(\n",
    "    root = data_root, train=False, download=True, transform=transform\n",
    ")"
   ]
  },
  {
   "attachments": {},
   "cell_type": "markdown",
   "metadata": {},
   "source": [
    "## 8.10 データ準備3(データローダによるミニバッチ用データ生成)"
   ]
  },
  {
   "cell_type": "code",
   "execution_count": null,
   "metadata": {},
   "outputs": [],
   "source": [
    "from torch.utils.data import DataLoader\n",
    "batch_size=500\n",
    "\n",
    "train_loader = DataLoader(\n",
    "    train_set, batch_size = batch_size,\n",
    "    shuffle = True\n",
    ")\n",
    "test_loader = DataLoader(\n",
    "    test_set, batch_size = batch_size,\n",
    "    shuffle = False\n",
    ")"
   ]
  },
  {
   "cell_type": "code",
   "execution_count": null,
   "metadata": {},
   "outputs": [],
   "source": [
    "print(len(train_loader))\n",
    "for images, labels in train_loader:\n",
    "    break\n",
    "print(len(labels))\n",
    "print(images.shape)\n",
    "print(labels.shape)"
   ]
  },
  {
   "cell_type": "code",
   "execution_count": null,
   "metadata": {},
   "outputs": [],
   "source": []
  },
  {
   "attachments": {},
   "cell_type": "markdown",
   "metadata": {},
   "source": [
    "## 8.11 モデル定義"
   ]
  },
  {
   "cell_type": "code",
   "execution_count": null,
   "metadata": {},
   "outputs": [],
   "source": [
    "n_input = image.shape[0]\n",
    "n_output = len(set(list(labels.data.numpy())))\n",
    "n_hidden = 128\n",
    "print(f'n_input: {n_input} n_hidden: {n_hidden} n_output: {n_output}')"
   ]
  },
  {
   "cell_type": "code",
   "execution_count": null,
   "metadata": {},
   "outputs": [],
   "source": [
    "# モデルの定義\n",
    "class Net(nn.Module):\n",
    "    def __init__(self, n_input, n_output, n_hidden):\n",
    "        super().__init__()\n",
    "        self.l1 = nn.Linear(n_input, n_hidden)\n",
    "        self.l2 = nn.Linear(n_hidden, n_output)\n",
    "        self.relu = nn.ReLU(inplace=True)\n",
    "\n",
    "    def forward(self, x):\n",
    "        x1 = self.l1(x)\n",
    "        x2 = self.relu(x1)\n",
    "        x3 = self.l2(x2)\n",
    "        return x3\n"
   ]
  },
  {
   "cell_type": "code",
   "execution_count": null,
   "metadata": {},
   "outputs": [],
   "source": [
    "torch.manual_seed(123)\n",
    "torch.cuda.manual_seed(123)\n",
    "\n",
    "net = Net(n_input, n_output, n_hidden)\n",
    "net = net.to(device)\n",
    "# net = Net(n_input, n_output, n_hidden).to(device)"
   ]
  },
  {
   "cell_type": "code",
   "execution_count": null,
   "metadata": {},
   "outputs": [],
   "source": [
    "# 学習率\n",
    "lr = 0.01\n",
    "\n",
    "# アルゴリズム: 勾配降下法\n",
    "optimizer = torch.optim.SGD(net.parameters(), lr=lr)\n",
    "\n",
    "# 損失関数： 交差エントロピー関数\n",
    "criterion = nn.CrossEntropyLoss()"
   ]
  },
  {
   "cell_type": "code",
   "execution_count": null,
   "metadata": {},
   "outputs": [],
   "source": [
    "for parameter in net.named_parameters():\n",
    "    print(parameter)"
   ]
  },
  {
   "cell_type": "code",
   "execution_count": null,
   "metadata": {},
   "outputs": [],
   "source": [
    "print(net)"
   ]
  },
  {
   "attachments": {},
   "cell_type": "markdown",
   "metadata": {},
   "source": [
    "## 8.12 勾配降下法"
   ]
  },
  {
   "cell_type": "code",
   "execution_count": null,
   "metadata": {},
   "outputs": [],
   "source": [
    "for images, labels in train_loader:\n",
    "    break\n",
    "inputs = images.to(device)\n",
    "labels = labels.to(device)\n",
    "outputs = net(inputs)\n",
    "print(outputs)"
   ]
  },
  {
   "cell_type": "code",
   "execution_count": null,
   "metadata": {},
   "outputs": [],
   "source": [
    "# 損失計算\n",
    "loss = criterion(outputs, labels)\n",
    "print(loss.item())\n",
    "make_dot(loss, params=dict(net.named_parameters()))"
   ]
  },
  {
   "cell_type": "code",
   "execution_count": null,
   "metadata": {},
   "outputs": [],
   "source": [
    "# 乱数の固定化\n",
    "torch.manual_seed(123)\n",
    "torch.cuda.manual_seed(123)\n",
    "\n",
    "# 学習率\n",
    "lr = 0.01\n",
    "# モデル初期化\n",
    "net = Net(n_input, n_output, n_hidden).to(device)\n",
    "# 損失関数：交差エントロピー関数\n",
    "criterion = nn.CrossEntropyLoss()\n",
    "# 最適化関数\n",
    "optimizer = optim.SGD(net.parameters(), lr=lr)\n",
    "# 繰り返し回数\n",
    "num_epochs = 100\n",
    "# 評価関数結果記録用\n",
    "history = np.zeros((0,5))\n"
   ]
  },
  {
   "cell_type": "code",
   "execution_count": null,
   "metadata": {},
   "outputs": [],
   "source": [
    "# 繰り返し計算メインループ\n",
    "for epoch in range(num_epochs):\n",
    "    train_acc, train_loss = 0, 0\n",
    "    val_acc, val_loss = 0, 0\n",
    "    n_train, n_test = 0, 0\n",
    "\n",
    "    # 訓練フェーズ\n",
    "    for inputs, labels in tqdm(train_loader):\n",
    "        n_train += len(labels)\n",
    "        # GPUへ転送\n",
    "        inputs = inputs.to(device)\n",
    "        labels = labels.to(device)\n",
    "        # 勾配の初期化\n",
    "        optimizer.zero_grad()\n",
    "        # 予測計算\n",
    "        outputs = net(inputs)\n",
    "        # 損失計算\n",
    "        loss = criterion(outputs, labels)\n",
    "        # 勾配計算\n",
    "        loss.backward()\n",
    "        # パラメータ修正\n",
    "        optimizer.step()\n",
    "        # 予測ラベル導出\n",
    "        predicted = torch.max(outputs, 1)[1]\n",
    "        # 損失と精度の計算\n",
    "        train_loss += loss.item()\n",
    "        train_acc += (predicted == labels).sum().item() \n",
    "\n",
    "    # 予測フェーズ\n",
    "    for inputs_test, labels_test in test_loader:\n",
    "        n_test += len(labels_test)\n",
    "        inputs_test = inputs_test.to(device)\n",
    "        labels_test = labels_test.to(device)\n",
    "\n",
    "        # 予測計算\n",
    "        outputs_test = net(inputs_test)\n",
    "\n",
    "        # 損失関数\n",
    "        loss_test = criterion(outputs_test, labels_test)\n",
    "\n",
    "        # 予測データ導出\n",
    "        predicted_test = torch.max(outputs_test, 1)[1]\n",
    "\n",
    "        # 損失と制度の計算\n",
    "        val_loss += loss_test.item()\n",
    "        val_acc += (predicted_test == labels_test).sum().item()\n",
    "\n",
    "    # 評価値の算出・記録\n",
    "    train_acc = train_acc / n_train\n",
    "    val_acc = val_acc / n_test\n",
    "    train_loss = train_loss * batch_size / n_train\n",
    "    val_loss = val_loss * batch_size / n_test\n",
    "    print (f'Epoch [{epoch+1}/{num_epochs}], loss: {train_loss:.5f} acc: {train_acc:.5f} val_loss: {val_loss:.5f}, val_acc: {val_acc:.5f}')\n",
    "    item = np.array([epoch+1 , train_loss, train_acc, val_loss, val_acc])\n",
    "    history = np.vstack((history, item))\n",
    "print(f'初期状態：損失：{history[0,3]:.5f}  精度：{history[0,4]:.5f}')\n",
    "print(f'最終状態：損失：{history[-1,3]:.5f}  精度：{history[-1,4]:.5f}')"
   ]
  },
  {
   "cell_type": "code",
   "execution_count": null,
   "metadata": {},
   "outputs": [],
   "source": [
    "# 学習曲線の表示(損失)\n",
    "plt.plot(history[:,0], history[:,1], \"b\", label=\"train\")\n",
    "plt.plot(history[:,0], history[:,3], \"k\", label=\"test\")\n",
    "plt.xlabel('iterate number')\n",
    "plt.ylabel('loss')\n",
    "plt.title('learning curve')\n",
    "plt.legend()\n",
    "plt.show()"
   ]
  },
  {
   "cell_type": "code",
   "execution_count": null,
   "metadata": {},
   "outputs": [],
   "source": [
    "# 学習曲線の表示(精度)\n",
    "plt.plot(history[:,0], history[:,2], \"b\", label=\"train\")\n",
    "plt.plot(history[:,0], history[:,4], \"k\", label=\"test\")\n",
    "plt.xlabel('iterate number')\n",
    "plt.ylabel('acc')\n",
    "plt.title('learning curve(acc)')\n",
    "plt.legend()\n",
    "plt.show()"
   ]
  }
 ],
 "metadata": {
  "kernelspec": {
   "display_name": "Python 3",
   "language": "python",
   "name": "python3"
  },
  "language_info": {
   "codemirror_mode": {
    "name": "ipython",
    "version": 3
   },
   "file_extension": ".py",
   "mimetype": "text/x-python",
   "name": "python",
   "nbconvert_exporter": "python",
   "pygments_lexer": "ipython3",
   "version": "3.8.10 (default, Nov 14 2022, 12:59:47) \n[GCC 9.4.0]"
  },
  "orig_nbformat": 4,
  "vscode": {
   "interpreter": {
    "hash": "916dbcbb3f70747c44a77c7bcd40155683ae19c65e1c03b4aa3499c5328201f1"
   }
  }
 },
 "nbformat": 4,
 "nbformat_minor": 2
}

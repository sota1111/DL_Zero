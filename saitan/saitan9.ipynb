{
 "cells": [
  {
   "attachments": {},
   "cell_type": "markdown",
   "metadata": {},
   "source": [
    "# 9章 CNNによる画像認識"
   ]
  },
  {
   "cell_type": "code",
   "execution_count": 1,
   "metadata": {},
   "outputs": [],
   "source": [
    "import matplotlib.pyplot as plt\n",
    "import numpy as np\n",
    "import torch\n",
    "import torch.nn as nn\n",
    "import torchvision.datasets as datasets\n",
    "import torchvision.transforms as transforms\n",
    "import torch.optim as optim\n",
    "from torchviz import make_dot\n",
    "from tqdm import tqdm"
   ]
  },
  {
   "cell_type": "code",
   "execution_count": 3,
   "metadata": {},
   "outputs": [
    {
     "name": "stdout",
     "output_type": "stream",
     "text": [
      "cuda:0\n"
     ]
    }
   ],
   "source": [
    "# デバイスの割り当て\n",
    "device = torch.device(\"cuda:0\" if torch.cuda.is_available() else \"cpu\")\n",
    "print(device)"
   ]
  },
  {
   "cell_type": "code",
   "execution_count": 4,
   "metadata": {},
   "outputs": [
    {
     "name": "stdout",
     "output_type": "stream",
     "text": [
      "10\n"
     ]
    }
   ],
   "source": [
    "# 分類先クラスの名称リスト\n",
    "classes = ('plane', 'car', 'bird', 'cat',\n",
    "           'deer', 'dog', 'frog', 'horse', 'ship', 'truck')\n",
    "# 分類先クラス数　今回は10になる\n",
    "n_output = len(list(set(classes)))\n",
    "# 結果確認\n",
    "print(n_output)"
   ]
  },
  {
   "cell_type": "code",
   "execution_count": 5,
   "metadata": {},
   "outputs": [
    {
     "name": "stdout",
     "output_type": "stream",
     "text": [
      "tensor([[-0.1115,  0.1204, -0.3696, -0.2404, -1.1969,  0.2093, -0.9724, -0.7550,\n",
      "          0.3239, -0.1085]])\n"
     ]
    }
   ],
   "source": [
    "# ドロップアウトテスト用ダミーデータの作成\n",
    "torch.manual_seed(123)\n",
    "inputs = torch.randn(1, 10)\n",
    "print(inputs)"
   ]
  },
  {
   "cell_type": "code",
   "execution_count": 6,
   "metadata": {},
   "outputs": [
    {
     "name": "stdout",
     "output_type": "stream",
     "text": [
      "True\n",
      "tensor([[-0.0000,  0.2407, -0.0000, -0.4808, -0.0000,  0.0000, -1.9447, -0.0000,\n",
      "          0.6478, -0.2170]])\n",
      "False\n",
      "tensor([[-0.1115,  0.1204, -0.3696, -0.2404, -1.1969,  0.2093, -0.9724, -0.7550,\n",
      "          0.3239, -0.1085]])\n"
     ]
    }
   ],
   "source": [
    "# dropout関数の定義\n",
    "dropout = nn.Dropout(0.5)\n",
    "# 訓練フェーズでの挙動\n",
    "dropout.train()\n",
    "print(dropout.training)\n",
    "outputs = dropout(inputs)\n",
    "print(outputs)\n",
    "# 予測フェーズでの挙動\n",
    "dropout.eval()\n",
    "print(dropout.training)\n",
    "outputs = dropout(inputs)\n",
    "print(outputs)"
   ]
  },
  {
   "cell_type": "code",
   "execution_count": 8,
   "metadata": {},
   "outputs": [
    {
     "name": "stdout",
     "output_type": "stream",
     "text": [
      "fatal: destination path 'pythonlibs' already exists and is not an empty directory.\n",
      "Common Library for PyTorch\n",
      "Author: M. Akaishi\n"
     ]
    }
   ],
   "source": [
    "# 共通関数のダウンロード\n",
    "#!git clone https://github.com/makaishi2/pythonlibs.git\n",
    "# 共通関数のロード\n",
    "from pythonlibs.torch_lib1 import *\n",
    "# 共通関数の存在チェック\n",
    "print(README)"
   ]
  }
 ],
 "metadata": {
  "kernelspec": {
   "display_name": "Python 3",
   "language": "python",
   "name": "python3"
  },
  "language_info": {
   "codemirror_mode": {
    "name": "ipython",
    "version": 3
   },
   "file_extension": ".py",
   "mimetype": "text/x-python",
   "name": "python",
   "nbconvert_exporter": "python",
   "pygments_lexer": "ipython3",
   "version": "3.8.10"
  },
  "orig_nbformat": 4,
  "vscode": {
   "interpreter": {
    "hash": "916dbcbb3f70747c44a77c7bcd40155683ae19c65e1c03b4aa3499c5328201f1"
   }
  }
 },
 "nbformat": 4,
 "nbformat_minor": 2
}

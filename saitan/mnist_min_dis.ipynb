{
 "cells": [
  {
   "cell_type": "code",
   "execution_count": null,
   "metadata": {},
   "outputs": [],
   "source": [
    "import matplotlib.pyplot as plt\n",
    "import numpy as np\n",
    "import torch\n",
    "import torch.nn as nn\n",
    "import torchvision.datasets as datasets\n",
    "import torchvision.transforms as transforms\n",
    "import torch.optim as optim\n",
    "from torchviz import make_dot\n",
    "from tqdm import tqdm\n",
    "import wandb"
   ]
  },
  {
   "cell_type": "code",
   "execution_count": null,
   "metadata": {},
   "outputs": [],
   "source": [
    "device = torch.device(\"cuda:0\" if torch.cuda.is_available() else \"cpu\")\n",
    "print(device)# cudaが利用可能だと0"
   ]
  },
  {
   "cell_type": "code",
   "execution_count": null,
   "metadata": {},
   "outputs": [],
   "source": [
    "wandb.init(project=\"mnist_test\")\n",
    "wandb.config = {\n",
    "  \"learning_rate\": 0.01,\n",
    "  \"epochs\": 100,\n",
    "  \"batch_size\": 128\n",
    "}"
   ]
  },
  {
   "cell_type": "code",
   "execution_count": null,
   "metadata": {},
   "outputs": [],
   "source": [
    "# 最終的なデータセットの定義\n",
    "data_root = './data'\n",
    "transform = transforms.Compose([\n",
    "    transforms.ToTensor(),\n",
    "    transforms.Normalize(0.5, 0.5),\n",
    "    transforms.Lambda(lambda x: x.view(-1)),\n",
    "])\n",
    "train_set = datasets.MNIST(\n",
    "    root = data_root, train=True, download=False, transform=transform\n",
    ")\n",
    "test_set = datasets.MNIST(\n",
    "    root = data_root, train=False, download=False, transform=transform\n",
    ")"
   ]
  },
  {
   "cell_type": "code",
   "execution_count": null,
   "metadata": {},
   "outputs": [],
   "source": [
    "from torch.utils.data import DataLoader\n",
    "batch_size = wandb.config[\"batch_size\"]\n",
    "\n",
    "train_loader = DataLoader(\n",
    "    train_set, batch_size = batch_size,\n",
    "    shuffle = True\n",
    ")\n",
    "test_loader = DataLoader(\n",
    "    test_set, batch_size = batch_size,\n",
    "    shuffle = False\n",
    ")"
   ]
  },
  {
   "cell_type": "code",
   "execution_count": null,
   "metadata": {},
   "outputs": [],
   "source": [
    "# 入出力、隠れ層の設定\n",
    "image, label = train_set[0]\n",
    "n_input = image.shape[0]\n",
    "for images, labels in train_loader:\n",
    "    break\n",
    "n_output = len(set(list(labels.data.numpy())))\n",
    "n_hidden = 128"
   ]
  },
  {
   "cell_type": "code",
   "execution_count": null,
   "metadata": {},
   "outputs": [],
   "source": [
    "# モデルの定義\n",
    "# 784入力10出力２隠れ層のNNモデル\n",
    "class Net2(nn.Module):\n",
    "    def __init__(self, n_input, n_output, n_hidden):\n",
    "        super().__init__()\n",
    "        # 隠れ層1\n",
    "        self.l1 = nn.Linear(n_input, n_hidden)\n",
    "        # 隠れ層2\n",
    "        self.l2 = nn.Linear(n_hidden, n_hidden)\n",
    "        # 出力層\n",
    "        self.l3 = nn.Linear(n_hidden, n_output)\n",
    "        # ReLU\n",
    "        self.relu = nn.ReLU(inplace=True)\n",
    "\n",
    "    def forward(self, x):\n",
    "        x1 = self.l1(x)\n",
    "        x2 = self.relu(x1)\n",
    "        x3 = self.l2(x2)\n",
    "        x4 = self.relu(x3)\n",
    "        x5 = self.l3(x4)\n",
    "        return x5"
   ]
  },
  {
   "cell_type": "code",
   "execution_count": null,
   "metadata": {},
   "outputs": [],
   "source": [
    "# NN層の定義\n",
    "torch.manual_seed(123)\n",
    "torch.cuda.manual_seed(123)\n",
    "\n",
    "# 学習率\n",
    "lr = wandb.config[\"learning_rate\"]\n",
    "# モデル初期化\n",
    "net = Net2(n_input, n_output, n_hidden).to(device)\n",
    "print(net)\n",
    "# 損失関数：交差エントロピー関数\n",
    "criterion = nn.CrossEntropyLoss()\n",
    "# 最適化関数\n",
    "optimizer = optim.SGD(net.parameters(), lr=lr)\n",
    "# 繰り返し回数\n",
    "num_epochs = wandb.config[\"epochs\"]\n",
    "# 評価関数結果記録用\n",
    "history = np.zeros((0,5))"
   ]
  },
  {
   "cell_type": "code",
   "execution_count": null,
   "metadata": {},
   "outputs": [],
   "source": [
    "# 繰り返し計算メインループ\n",
    "for epoch in range(num_epochs):\n",
    "    train_acc, train_loss = 0, 0\n",
    "    test_acc, test_loss = 0, 0\n",
    "    n_train, n_test = 0, 0\n",
    "\n",
    "    # 訓練フェーズ\n",
    "    for inputs, labels in tqdm(train_loader):\n",
    "        n_train += len(labels)\n",
    "        # GPUへ転送\n",
    "        inputs = inputs.to(device)\n",
    "        labels = labels.to(device)\n",
    "        # 勾配の初期化\n",
    "        optimizer.zero_grad()\n",
    "        # 予測計算\n",
    "        outputs = net(inputs)\n",
    "        # 損失計算\n",
    "        loss = criterion(outputs, labels)\n",
    "        # 勾配計算\n",
    "        loss.backward()\n",
    "        # パラメータ修正\n",
    "        optimizer.step()\n",
    "        # 予測ラベル導出\n",
    "        predicted = torch.max(outputs, 1)[1]\n",
    "        # 損失と精度の計算\n",
    "        train_loss += loss.item()\n",
    "        train_acc += (predicted == labels).sum().item() \n",
    "\n",
    "    # 予測フェーズ\n",
    "    for inputs_test, labels_test in test_loader:\n",
    "        n_test += len(labels_test)\n",
    "        inputs_test = inputs_test.to(device)\n",
    "        labels_test = labels_test.to(device)\n",
    "\n",
    "        # 予測計算\n",
    "        outputs_test = net(inputs_test)\n",
    "\n",
    "        # 損失関数\n",
    "        loss_test = criterion(outputs_test, labels_test)\n",
    "\n",
    "\n",
    "        # 予測データ導出\n",
    "        predicted_test = torch.max(outputs_test, 1)[1]\n",
    "\n",
    "        # 損失と制度の計算\n",
    "        test_loss += loss_test.item()\n",
    "        test_acc += (predicted_test == labels_test).sum().item()\n",
    "\n",
    "    # 評価値の算出・記録\n",
    "    train_acc = train_acc / n_train\n",
    "    test_acc = test_acc / n_test\n",
    "    train_loss = train_loss * batch_size / n_train\n",
    "    test_loss = test_loss * batch_size / n_test\n",
    "    print (f'Epoch [{epoch+1}/{num_epochs}], loss: {train_loss:.5f} acc: {train_acc:.5f} val_loss: {test_loss:.5f}, val_acc: {test_acc:.5f}')\n",
    "    item = np.array([epoch+1 , train_loss, train_acc, test_loss, test_acc])\n",
    "    history = np.vstack((history, item))\n",
    "    wandb.log({\"epoch\": epoch, \"train_loss\": train_loss, \"test_loss\": test_loss})\n",
    "print(f'初期状態：損失：{history[0,3]:.5f}  精度：{history[0,4]:.5f}')\n",
    "print(f'最終状態：損失：{history[-1,3]:.5f}  精度：{history[-1,4]:.5f}')"
   ]
  },
  {
   "cell_type": "code",
   "execution_count": null,
   "metadata": {},
   "outputs": [],
   "source": [
    "# 学習曲線の表示(損失)\n",
    "plt.plot(history[:,0], history[:,1], \"b\", label=\"train\")\n",
    "plt.plot(history[:,0], history[:,3], \"k\", label=\"test\")\n",
    "plt.xlabel('iterate number')\n",
    "plt.ylabel('loss')\n",
    "plt.title('learning curve')\n",
    "plt.legend()\n",
    "plt.show()"
   ]
  },
  {
   "cell_type": "code",
   "execution_count": null,
   "metadata": {},
   "outputs": [],
   "source": [
    "# 学習曲線の表示(精度)\n",
    "plt.plot(history[:,0], history[:,2], \"b\", label=\"train\")\n",
    "plt.plot(history[:,0], history[:,4], \"k\", label=\"test\")\n",
    "plt.xlabel('iterate number')\n",
    "plt.ylabel('acc')\n",
    "plt.title('learning curve(acc)')\n",
    "plt.legend()\n",
    "plt.show()"
   ]
  }
 ],
 "metadata": {
  "kernelspec": {
   "display_name": "Python 3",
   "language": "python",
   "name": "python3"
  },
  "language_info": {
   "codemirror_mode": {
    "name": "ipython",
    "version": 3
   },
   "file_extension": ".py",
   "mimetype": "text/x-python",
   "name": "python",
   "nbconvert_exporter": "python",
   "pygments_lexer": "ipython3",
   "version": "3.8.10 (default, Nov 14 2022, 12:59:47) \n[GCC 9.4.0]"
  },
  "orig_nbformat": 4,
  "vscode": {
   "interpreter": {
    "hash": "916dbcbb3f70747c44a77c7bcd40155683ae19c65e1c03b4aa3499c5328201f1"
   }
  }
 },
 "nbformat": 4,
 "nbformat_minor": 2
}

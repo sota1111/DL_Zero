{
 "cells": [
  {
   "attachments": {},
   "cell_type": "markdown",
   "metadata": {},
   "source": [
    "## PyTorchの特徴\n",
    "### 利点\n",
    "- 学習用データの取り込みなど、機能が豊富で拡張性が高い\n",
    "- 必要に応じて独自の機能を簡単に開発しやすい\n",
    "### 欠点\n",
    "- 機械学習モデルの定義方法などがやや複雑で敷居が高い\n",
    "- Kerasなら関数(fit)１つで実装できる、機械学習モデルの学習処理を、自ら記述する必要がある "
   ]
  }
 ],
 "metadata": {
  "kernelspec": {
   "display_name": "Python 3",
   "language": "python",
   "name": "python3"
  },
  "language_info": {
   "codemirror_mode": {
    "name": "ipython",
    "version": 3
   },
   "file_extension": ".py",
   "mimetype": "text/x-python",
   "name": "python",
   "nbconvert_exporter": "python",
   "pygments_lexer": "ipython3",
   "version": "3.8.10 (default, Nov 14 2022, 12:59:47) \n[GCC 9.4.0]"
  },
  "orig_nbformat": 4,
  "vscode": {
   "interpreter": {
    "hash": "916dbcbb3f70747c44a77c7bcd40155683ae19c65e1c03b4aa3499c5328201f1"
   }
  }
 },
 "nbformat": 4,
 "nbformat_minor": 2
}

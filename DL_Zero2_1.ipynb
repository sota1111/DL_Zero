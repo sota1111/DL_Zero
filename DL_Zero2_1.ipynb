{
  "nbformat": 4,
  "nbformat_minor": 0,
  "metadata": {
    "colab": {
      "provenance": [],
      "authorship_tag": "ABX9TyNkfOAKyd8DR4Whj7apYgj1",
      "include_colab_link": true
    },
    "kernelspec": {
      "name": "python3",
      "display_name": "Python 3"
    },
    "language_info": {
      "name": "python"
    }
  },
  "cells": [
    {
      "cell_type": "markdown",
      "metadata": {
        "id": "view-in-github",
        "colab_type": "text"
      },
      "source": [
        "<a href=\"https://colab.research.google.com/github/sota1111/DL_Zero/blob/main/DL_Zero2_1.ipynb\" target=\"_parent\"><img src=\"https://colab.research.google.com/assets/colab-badge.svg\" alt=\"Open In Colab\"/></a>"
      ]
    },
    {
      "cell_type": "code",
      "execution_count": 1,
      "metadata": {
        "id": "YprsSt96NzHH",
        "colab": {
          "base_uri": "https://localhost:8080/"
        },
        "outputId": "03c92e99-0b39-4a37-fc05-95c2c970db10"
      },
      "outputs": [
        {
          "output_type": "stream",
          "name": "stdout",
          "text": [
            "Mounted at /content/drive\n"
          ]
        }
      ],
      "source": [
        "from google.colab import drive\n",
        "drive.mount('/content/drive')\n",
        "\n",
        "import os, sys\n",
        "os.chdir('/content/drive/MyDrive/DL_Zero')"
      ]
    },
    {
      "cell_type": "code",
      "source": [
        "!git config --global user.email \"sota.moro@gmail.com\"\n",
        "!git config --global user.name \"sota1111\""
      ],
      "metadata": {
        "id": "4t7vWuXgQA8N"
      },
      "execution_count": 6,
      "outputs": []
    },
    {
      "cell_type": "code",
      "source": [
        "import numpy as np"
      ],
      "metadata": {
        "id": "lGF2tbQReXfO"
      },
      "execution_count": 3,
      "outputs": []
    },
    {
      "cell_type": "markdown",
      "source": [
        "# 2章 自然言語と単語の分散表現"
      ],
      "metadata": {
        "id": "6ssPqDQ6RPTO"
      }
    },
    {
      "cell_type": "markdown",
      "source": [
        "## 2.1 自然言語処理とは\n",
        "自然言語処理：人の言葉をコンピュータに理解させるための技術  \n",
        "同じ意味の文章でも様々な表現が可能であったり、文章に曖昧さがあったりと、柔軟に意味や形が変わる柔らかさを持つ。  "
      ],
      "metadata": {
        "id": "AcFbuId1RhrR"
      }
    },
    {
      "cell_type": "markdown",
      "source": [
        "### 2.1.1 単語の意味\n",
        "単語：意味の最小単位\n",
        "単語の意味の表現方法\n",
        "- シソーラスによる手法\n",
        "- カウントベースの手法\n",
        "- 推論ベースの手法"
      ],
      "metadata": {
        "id": "L1qqbpEuT9GD"
      }
    },
    {
      "cell_type": "markdown",
      "source": [
        "## 2.2 シソーラス\n",
        "シソーラス：類語辞書  \n",
        "類義語を上位概念や下位概念で関連付ける。  \n",
        "motor vehicle->car->SUV, compact, hatch-back"
      ],
      "metadata": {
        "id": "ac6JmDazVN_P"
      }
    },
    {
      "cell_type": "markdown",
      "source": [
        "### 2.2.1 WordNet\n",
        "WordNet：最も有名なシソーラス  \n",
        "類義語を取得したり、単語ネットワークを利用したりすることができる。単語ネットワークを使って単語間の類似度を算出可能"
      ],
      "metadata": {
        "id": "g-q_EWYBW0bt"
      }
    },
    {
      "cell_type": "markdown",
      "source": [
        "### 2.2.2 シソーラスの問題点\n",
        "- 時代の変化に対応するのが困難\n",
        "- 人の作業コストが高い\n",
        "- 単語の細かなニュアンスを表現できない"
      ],
      "metadata": {
        "id": "IMoJiz6mZJ1B"
      }
    },
    {
      "cell_type": "markdown",
      "source": [
        "## 2.3 カウントベースの手法\n",
        "コーパス：大量のテキストデータ  \n",
        "（自然言語処理の研究やアプリケーションのために目的を持って収集されたテキストデータ）  "
      ],
      "metadata": {
        "id": "Y6KXPfbyaS4U"
      }
    },
    {
      "cell_type": "markdown",
      "source": [
        "### 2.3.1 Pythonによるコーパスの下準備\n",
        "テキストデータを単語に分割し、その分割した単語を単語IDのリストへと変換する。"
      ],
      "metadata": {
        "id": "9ScImMttbX4V"
      }
    },
    {
      "cell_type": "code",
      "source": [
        "def preprocess(text):\n",
        "  text = text.lower()\n",
        "  text = text.replace('.', ' .')\n",
        "  words = text.split(' ')\n",
        "\n",
        "  word_to_id = {}\n",
        "  id_to_word = {}\n",
        "  for word in words:\n",
        "    if word not in word_to_id:\n",
        "      new_id = len(word_to_id)\n",
        "      word_to_id[word] = new_id\n",
        "      id_to_word[new_id] = word\n",
        "\n",
        "  corpus = np.array([word_to_id[w] for w in words])\n",
        "\n",
        "  return corpus, word_to_id, id_to_word"
      ],
      "metadata": {
        "id": "bC4Dyp6_bL0p"
      },
      "execution_count": 4,
      "outputs": []
    },
    {
      "cell_type": "markdown",
      "source": [
        "### 2.3.2 単語の分散表現\n",
        "単語の分散表現：単語をベクトル表現"
      ],
      "metadata": {
        "id": "HnigzIFKev8h"
      }
    },
    {
      "cell_type": "markdown",
      "source": [
        "### 2.3.3 分布仮説\n",
        "分布仮説：単語の意味は、周囲の単語によって形成される  \n",
        "コンテキスト：周囲に存在する単語  \n",
        "ウィンドウサイズ：コンテキストに前後の単語をいくつ含めるか  "
      ],
      "metadata": {
        "id": "PsHDvXFJgPkm"
      }
    },
    {
      "cell_type": "markdown",
      "source": [
        "### 2.3.4 共起行列\n",
        "共起行列：共起する単語をテーブルにまとめたもの\n"
      ],
      "metadata": {
        "id": "4QCCRe5T0sWt"
      }
    },
    {
      "cell_type": "code",
      "source": [
        "!pip install common"
      ],
      "metadata": {
        "colab": {
          "base_uri": "https://localhost:8080/"
        },
        "id": "_JmV5J-EBshS",
        "outputId": "202b44be-33ff-4e46-c0a7-ef500925c8e7"
      },
      "execution_count": 7,
      "outputs": [
        {
          "output_type": "stream",
          "name": "stdout",
          "text": [
            "Looking in indexes: https://pypi.org/simple, https://us-python.pkg.dev/colab-wheels/public/simple/\n",
            "Collecting common\n",
            "  Downloading common-0.1.2.tar.gz (3.5 kB)\n",
            "Building wheels for collected packages: common\n",
            "  Building wheel for common (setup.py) ... \u001b[?25l\u001b[?25hdone\n",
            "  Created wheel for common: filename=common-0.1.2-py3-none-any.whl size=3732 sha256=ed9a9367861f90482adba48ab75948f61a41da61404a7fa507d7f91105210c8c\n",
            "  Stored in directory: /root/.cache/pip/wheels/11/88/ea/416ddc295a285f3661c88772a64b4a3766a92ce55f7b01dd9d\n",
            "Successfully built common\n",
            "Installing collected packages: common\n",
            "Successfully installed common-0.1.2\n"
          ]
        }
      ]
    },
    {
      "cell_type": "code",
      "source": [
        "import sys\n",
        "sys.path.append('..')\n",
        "import numpy as np\n",
        "\n",
        "text = 'You say goodbye and I say hello'\n",
        "corpus, word_to_id, id_to_word = preprocess(text)\n",
        "\n",
        "print(corpus)\n",
        "\n",
        "print(id_to_word)"
      ],
      "metadata": {
        "colab": {
          "base_uri": "https://localhost:8080/"
        },
        "id": "zY5a2sfGBRil",
        "outputId": "7574d234-34c8-4738-c12d-9654ee1d75cb"
      },
      "execution_count": 9,
      "outputs": [
        {
          "output_type": "stream",
          "name": "stdout",
          "text": [
            "[0 1 2 3 4 1 5]\n",
            "{0: 'you', 1: 'say', 2: 'goodbye', 3: 'and', 4: 'i', 5: 'hello'}\n"
          ]
        }
      ]
    },
    {
      "cell_type": "code",
      "source": [],
      "metadata": {
        "id": "ZSuPCG7qCJ4Y"
      },
      "execution_count": null,
      "outputs": []
    }
  ]
}
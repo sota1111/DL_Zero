{
  "nbformat": 4,
  "nbformat_minor": 0,
  "metadata": {
    "colab": {
      "provenance": [],
      "toc_visible": true,
      "authorship_tag": "ABX9TyOgvssUQPvSGVgzR7pTXE8f",
      "include_colab_link": true
    },
    "kernelspec": {
      "name": "python3",
      "display_name": "Python 3"
    },
    "language_info": {
      "name": "python"
    }
  },
  "cells": [
    {
      "cell_type": "markdown",
      "metadata": {
        "id": "view-in-github",
        "colab_type": "text"
      },
      "source": [
        "<a href=\"https://colab.research.google.com/github/sota1111/DL_Zero/blob/main/DL_Zero2_1.ipynb\" target=\"_parent\"><img src=\"https://colab.research.google.com/assets/colab-badge.svg\" alt=\"Open In Colab\"/></a>"
      ]
    },
    {
      "cell_type": "code",
      "execution_count": 1,
      "metadata": {
        "id": "YprsSt96NzHH",
        "colab": {
          "base_uri": "https://localhost:8080/"
        },
        "outputId": "6136cac6-be98-4184-81c8-033b6fb84ada"
      },
      "outputs": [
        {
          "output_type": "stream",
          "name": "stdout",
          "text": [
            "Mounted at /content/drive\n"
          ]
        }
      ],
      "source": [
        "from google.colab import drive\n",
        "drive.mount('/content/drive')\n",
        "\n",
        "import os, sys\n",
        "os.chdir('/content/drive/MyDrive/DL_Zero')"
      ]
    },
    {
      "cell_type": "code",
      "source": [
        "!git config --global user.email \"sota.moro@gmail.com\"\n",
        "!git config --global user.name \"sota1111\""
      ],
      "metadata": {
        "id": "4t7vWuXgQA8N"
      },
      "execution_count": 2,
      "outputs": []
    },
    {
      "cell_type": "code",
      "source": [
        "import numpy as np"
      ],
      "metadata": {
        "id": "lGF2tbQReXfO"
      },
      "execution_count": 3,
      "outputs": []
    },
    {
      "cell_type": "markdown",
      "source": [
        "# 2章 自然言語と単語の分散表現"
      ],
      "metadata": {
        "id": "6ssPqDQ6RPTO"
      }
    },
    {
      "cell_type": "markdown",
      "source": [
        "## 2.1 自然言語処理とは\n",
        "自然言語処理：人の言葉をコンピュータに理解させるための技術  \n",
        "同じ意味の文章でも様々な表現が可能であったり、文章に曖昧さがあったりと、柔軟に意味や形が変わる柔らかさを持つ。  "
      ],
      "metadata": {
        "id": "AcFbuId1RhrR"
      }
    },
    {
      "cell_type": "markdown",
      "source": [
        "### 2.1.1 単語の意味\n",
        "単語：意味の最小単位\n",
        "単語の意味の表現方法\n",
        "- シソーラスによる手法\n",
        "- カウントベースの手法\n",
        "- 推論ベースの手法"
      ],
      "metadata": {
        "id": "L1qqbpEuT9GD"
      }
    },
    {
      "cell_type": "markdown",
      "source": [
        "## 2.2 シソーラス\n",
        "シソーラス：類語辞書  \n",
        "類義語を上位概念や下位概念で関連付ける。  \n",
        "motor vehicle->car->SUV, compact, hatch-back"
      ],
      "metadata": {
        "id": "ac6JmDazVN_P"
      }
    },
    {
      "cell_type": "markdown",
      "source": [
        "### 2.2.1 WordNet\n",
        "WordNet：最も有名なシソーラス  \n",
        "類義語を取得したり、単語ネットワークを利用したりすることができる。単語ネットワークを使って単語間の類似度を算出可能"
      ],
      "metadata": {
        "id": "g-q_EWYBW0bt"
      }
    },
    {
      "cell_type": "markdown",
      "source": [
        "### 2.2.2 シソーラスの問題点\n",
        "- 時代の変化に対応するのが困難\n",
        "- 人の作業コストが高い\n",
        "- 単語の細かなニュアンスを表現できない"
      ],
      "metadata": {
        "id": "IMoJiz6mZJ1B"
      }
    },
    {
      "cell_type": "markdown",
      "source": [
        "## 2.3 カウントベースの手法\n",
        "コーパス：大量のテキストデータ  \n",
        "（自然言語処理の研究やアプリケーションのために目的を持って収集されたテキストデータ）  "
      ],
      "metadata": {
        "id": "Y6KXPfbyaS4U"
      }
    },
    {
      "cell_type": "markdown",
      "source": [
        "### 2.3.1 Pythonによるコーパスの下準備\n",
        "テキストデータを単語に分割し、その分割した単語を単語IDのリストへと変換する。"
      ],
      "metadata": {
        "id": "9ScImMttbX4V"
      }
    },
    {
      "cell_type": "code",
      "source": [
        "def preprocess(text):\n",
        "  text = text.lower()\n",
        "  text = text.replace('.', ' .')\n",
        "  words = text.split(' ')\n",
        "\n",
        "  word_to_id = {}\n",
        "  id_to_word = {}\n",
        "  for word in words:\n",
        "    if word not in word_to_id:\n",
        "      new_id = len(word_to_id)\n",
        "      word_to_id[word] = new_id\n",
        "      id_to_word[new_id] = word\n",
        "\n",
        "  corpus = np.array([word_to_id[w] for w in words])\n",
        "\n",
        "  return corpus, word_to_id, id_to_word"
      ],
      "metadata": {
        "id": "bC4Dyp6_bL0p"
      },
      "execution_count": 4,
      "outputs": []
    },
    {
      "cell_type": "markdown",
      "source": [
        "### 2.3.2 単語の分散表現\n",
        "単語の分散表現：単語をベクトル表現"
      ],
      "metadata": {
        "id": "HnigzIFKev8h"
      }
    },
    {
      "cell_type": "markdown",
      "source": [
        "### 2.3.3 分布仮説\n",
        "分布仮説：単語の意味は、周囲の単語によって形成される  \n",
        "コンテキスト：周囲に存在する単語  \n",
        "ウィンドウサイズ：コンテキストに前後の単語をいくつ含めるか  "
      ],
      "metadata": {
        "id": "PsHDvXFJgPkm"
      }
    },
    {
      "cell_type": "markdown",
      "source": [
        "### 2.3.4 共起行列\n",
        "共起行列：共起する単語をテーブルにまとめたもの\n"
      ],
      "metadata": {
        "id": "4QCCRe5T0sWt"
      }
    },
    {
      "cell_type": "code",
      "source": [
        "!pip install common"
      ],
      "metadata": {
        "colab": {
          "base_uri": "https://localhost:8080/"
        },
        "id": "_JmV5J-EBshS",
        "outputId": "b7a87b71-9319-4ae7-9cd1-f1adf13c7e9a"
      },
      "execution_count": 5,
      "outputs": [
        {
          "output_type": "stream",
          "name": "stdout",
          "text": [
            "Looking in indexes: https://pypi.org/simple, https://us-python.pkg.dev/colab-wheels/public/simple/\n",
            "Collecting common\n",
            "  Downloading common-0.1.2.tar.gz (3.5 kB)\n",
            "Building wheels for collected packages: common\n",
            "  Building wheel for common (setup.py) ... \u001b[?25l\u001b[?25hdone\n",
            "  Created wheel for common: filename=common-0.1.2-py3-none-any.whl size=3732 sha256=3e0f0d83bad969d6f01f9de87a6f781ea09a40d839e117e09777e724503c0f3d\n",
            "  Stored in directory: /root/.cache/pip/wheels/11/88/ea/416ddc295a285f3661c88772a64b4a3766a92ce55f7b01dd9d\n",
            "Successfully built common\n",
            "Installing collected packages: common\n",
            "Successfully installed common-0.1.2\n"
          ]
        }
      ]
    },
    {
      "cell_type": "code",
      "source": [
        "import sys\n",
        "sys.path.append('..')\n",
        "import numpy as np\n",
        "\n",
        "text = 'You say goodbye and I say hello'\n",
        "corpus, word_to_id, id_to_word = preprocess(text)\n",
        "\n",
        "print(corpus)\n",
        "\n",
        "print(id_to_word)\n",
        "\n",
        "C = np.array([\n",
        "    [0,1,0,0,0,0,0],\n",
        "    [1,0,1,0,1,1,0],\n",
        "    [0,1,0,1,0,0,0],\n",
        "    [0,0,1,0,1,0,0],\n",
        "    [0,1,0,1,0,0,0],\n",
        "    [0,1,0,0,0,0,0],\n",
        "    [0,0,0,0,0,1,0],\n",
        "])\n",
        "\n",
        "print(C[0])\n",
        "\n",
        "print(C[4])\n",
        "\n",
        "print(C[word_to_id['goodbye']])"
      ],
      "metadata": {
        "colab": {
          "base_uri": "https://localhost:8080/"
        },
        "id": "zY5a2sfGBRil",
        "outputId": "c413c2a1-bd96-4185-8565-a1fae2adaad0"
      },
      "execution_count": 6,
      "outputs": [
        {
          "output_type": "stream",
          "name": "stdout",
          "text": [
            "[0 1 2 3 4 1 5]\n",
            "{0: 'you', 1: 'say', 2: 'goodbye', 3: 'and', 4: 'i', 5: 'hello'}\n",
            "[0 1 0 0 0 0 0]\n",
            "[0 1 0 1 0 0 0]\n",
            "[0 1 0 1 0 0 0]\n"
          ]
        }
      ]
    },
    {
      "cell_type": "code",
      "source": [
        "def create_co_matrix(corpus, vocab_size, window_size=1):\n",
        "  corpus_size = len(corpus)\n",
        "  co_matrix = np.zeros((vocab_size, vocab_size), dtype=np.int32)\n",
        "\n",
        "  for idx, word_id in enumerate(corpus):\n",
        "    for i in range(1, window_size + 1):\n",
        "      left_idx = idx - i\n",
        "      right_idx = idx + i\n",
        "\n",
        "      if left_idx >= 0:\n",
        "        left_word_id = corpus[left_idx]\n",
        "        co_matrix[word_id, left_word_id] += 1\n",
        "\n",
        "      if right_idx < corpus_size:\n",
        "        right_word_id = corpus[right_idx]\n",
        "        co_matrix[word_id, right_word_id] += 1\n",
        "\n",
        "  return co_matrix"
      ],
      "metadata": {
        "id": "gThjCcCOb1Vt"
      },
      "execution_count": 7,
      "outputs": []
    },
    {
      "cell_type": "markdown",
      "source": [
        "### 2.3.5 ベクトル間の類似度\n",
        "ベクトル間の類似度：ベクトルの内積、ユークリッド距離、コサイン類似度  \n",
        "コサイン類似度＝x・y/||x||・||y||  "
      ],
      "metadata": {
        "id": "Wnvx6OyvXtsM"
      }
    },
    {
      "cell_type": "code",
      "source": [
        "def cos_similarity(x, y):\n",
        "  nx = x / np.sqrt(np.sum(x**2))\n",
        "  ny = y / np.sqrt(np.sum(y**2))\n",
        "  return np.dot(nx, ny)"
      ],
      "metadata": {
        "id": "w3VupEeyfx6-"
      },
      "execution_count": 8,
      "outputs": []
    },
    {
      "cell_type": "code",
      "source": [
        "def cos_similarity(x, y, eps=1e-8):\n",
        "  nx = x / np.sqrt(np.sum(x**2) + eps)\n",
        "  ny = y / np.sqrt(np.sum(y**2) + eps)\n",
        "  return np.dot(nx, ny)"
      ],
      "metadata": {
        "id": "QRpEEf5bgFy6"
      },
      "execution_count": 9,
      "outputs": []
    },
    {
      "cell_type": "code",
      "source": [
        "import sys\n",
        "sys.path.append('..')\n",
        "\n",
        "text = 'You say goodbye and I say hello'\n",
        "corpus, word_to_id, id_to_word = preprocess(text)\n",
        "vocab_size = len(word_to_id)\n",
        "C = create_co_matrix(corpus, vocab_size)\n",
        "\n",
        "c0 = C[word_to_id['you']]\n",
        "c1 = C[word_to_id['i']]\n",
        "print(cos_similarity(c0, c1))"
      ],
      "metadata": {
        "colab": {
          "base_uri": "https://localhost:8080/"
        },
        "id": "h8swNZaQgZMr",
        "outputId": "971f4827-183f-41b7-8526-ef7c996db9a0"
      },
      "execution_count": 10,
      "outputs": [
        {
          "output_type": "stream",
          "name": "stdout",
          "text": [
            "0.7071067758832467\n"
          ]
        }
      ]
    },
    {
      "cell_type": "markdown",
      "source": [
        "### 2.3.6 類似単語のランキング表示\n"
      ],
      "metadata": {
        "id": "iAFCHOWBicSG"
      }
    }
  ]
}
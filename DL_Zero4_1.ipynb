{
  "cells": [
    {
      "cell_type": "markdown",
      "metadata": {
        "id": "view-in-github",
        "colab_type": "text"
      },
      "source": [
        "<a href=\"https://colab.research.google.com/github/sota1111/DL_Zero4/blob/main/DL_Zero4_1.ipynb\" target=\"_parent\"><img src=\"https://colab.research.google.com/assets/colab-badge.svg\" alt=\"Open In Colab\"/></a>"
      ]
    },
    {
      "cell_type": "code",
      "execution_count": 2,
      "metadata": {
        "colab": {
          "base_uri": "https://localhost:8080/"
        },
        "id": "JFqgdCKz8Gyv",
        "outputId": "c0e4006f-65b4-416f-b4cc-05c1176da181"
      },
      "outputs": [
        {
          "output_type": "stream",
          "name": "stdout",
          "text": [
            "Mounted at /content/drive\n"
          ]
        }
      ],
      "source": [
        "from google.colab import drive\n",
        "drive.mount('/content/drive')\n",
        "\n",
        "import os, sys\n",
        "os.chdir('/content/drive/MyDrive/DL_Zero')"
      ]
    },
    {
      "cell_type": "code",
      "execution_count": 3,
      "metadata": {
        "id": "-Rz9YvW58MyK"
      },
      "outputs": [],
      "source": [
        "!git config --global user.email \"sota.moro@gmail.com\"\n",
        "!git config --global user.name \"sota1111\""
      ]
    },
    {
      "cell_type": "code",
      "execution_count": 1,
      "metadata": {
        "colab": {
          "base_uri": "https://localhost:8080/"
        },
        "id": "NjQq7LYT8RQR",
        "outputId": "cca88674-f883-4832-8d82-abbb4bf9b2e8"
      },
      "outputs": [
        {
          "output_type": "stream",
          "name": "stdout",
          "text": [
            "Looking in indexes: https://pypi.org/simple, https://us-python.pkg.dev/colab-wheels/public/simple/\n",
            "Requirement already satisfied: numpy in /usr/local/lib/python3.7/dist-packages (1.21.6)\n",
            "Requirement already satisfied: matplotlib in /usr/local/lib/python3.7/dist-packages (3.2.2)\n",
            "Requirement already satisfied: ipython in /usr/local/lib/python3.7/dist-packages (5.5.0)\n",
            "Requirement already satisfied: scikit-learn in /usr/local/lib/python3.7/dist-packages (1.0.2)\n",
            "Requirement already satisfied: pandas in /usr/local/lib/python3.7/dist-packages (1.3.5)\n",
            "Requirement already satisfied: pillow in /usr/local/lib/python3.7/dist-packages (7.1.2)\n",
            "Requirement already satisfied: python-dateutil>=2.1 in /usr/local/lib/python3.7/dist-packages (from matplotlib) (2.8.2)\n",
            "Requirement already satisfied: pyparsing!=2.0.4,!=2.1.2,!=2.1.6,>=2.0.1 in /usr/local/lib/python3.7/dist-packages (from matplotlib) (3.0.9)\n",
            "Requirement already satisfied: kiwisolver>=1.0.1 in /usr/local/lib/python3.7/dist-packages (from matplotlib) (1.4.4)\n",
            "Requirement already satisfied: cycler>=0.10 in /usr/local/lib/python3.7/dist-packages (from matplotlib) (0.11.0)\n",
            "Requirement already satisfied: typing-extensions in /usr/local/lib/python3.7/dist-packages (from kiwisolver>=1.0.1->matplotlib) (4.1.1)\n",
            "Requirement already satisfied: six>=1.5 in /usr/local/lib/python3.7/dist-packages (from python-dateutil>=2.1->matplotlib) (1.15.0)\n",
            "Requirement already satisfied: pygments in /usr/local/lib/python3.7/dist-packages (from ipython) (2.6.1)\n",
            "Requirement already satisfied: traitlets>=4.2 in /usr/local/lib/python3.7/dist-packages (from ipython) (5.1.1)\n",
            "Requirement already satisfied: setuptools>=18.5 in /usr/local/lib/python3.7/dist-packages (from ipython) (57.4.0)\n",
            "Requirement already satisfied: simplegeneric>0.8 in /usr/local/lib/python3.7/dist-packages (from ipython) (0.8.1)\n",
            "Requirement already satisfied: decorator in /usr/local/lib/python3.7/dist-packages (from ipython) (4.4.2)\n",
            "Requirement already satisfied: pexpect in /usr/local/lib/python3.7/dist-packages (from ipython) (4.8.0)\n",
            "Requirement already satisfied: prompt-toolkit<2.0.0,>=1.0.4 in /usr/local/lib/python3.7/dist-packages (from ipython) (1.0.18)\n",
            "Requirement already satisfied: pickleshare in /usr/local/lib/python3.7/dist-packages (from ipython) (0.7.5)\n",
            "Requirement already satisfied: wcwidth in /usr/local/lib/python3.7/dist-packages (from prompt-toolkit<2.0.0,>=1.0.4->ipython) (0.2.5)\n",
            "Requirement already satisfied: scipy>=1.1.0 in /usr/local/lib/python3.7/dist-packages (from scikit-learn) (1.7.3)\n",
            "Requirement already satisfied: joblib>=0.11 in /usr/local/lib/python3.7/dist-packages (from scikit-learn) (1.1.0)\n",
            "Requirement already satisfied: threadpoolctl>=2.0.0 in /usr/local/lib/python3.7/dist-packages (from scikit-learn) (3.1.0)\n",
            "Requirement already satisfied: pytz>=2017.3 in /usr/local/lib/python3.7/dist-packages (from pandas) (2022.1)\n",
            "Requirement already satisfied: ptyprocess>=0.5 in /usr/local/lib/python3.7/dist-packages (from pexpect->ipython) (0.7.0)\n"
          ]
        }
      ],
      "source": [
        "!pip install numpy matplotlib ipython scikit-learn pandas pillow"
      ]
    },
    {
      "cell_type": "code",
      "source": [
        "import numpy as np\n",
        "import matplotlib.pyplot as plt\n",
        "import pandas as pd\n",
        "from IPython.display import display"
      ],
      "metadata": {
        "id": "Enei8dXLp6Zv"
      },
      "execution_count": 5,
      "outputs": []
    },
    {
      "cell_type": "markdown",
      "source": [
        "# 1章 バンディット問題"
      ],
      "metadata": {
        "id": "MHmdN3DrqP2F"
      }
    },
    {
      "cell_type": "markdown",
      "source": [
        "## 1.1 機械学習の分類と強化学習"
      ],
      "metadata": {
        "id": "wB2YnCN2qVVP"
      }
    },
    {
      "cell_type": "markdown",
      "source": [
        "### 1.1.1 教師あり学習"
      ],
      "metadata": {
        "id": "QqQ0L70jvpEp"
      }
    },
    {
      "cell_type": "markdown",
      "source": [
        "### 1.1.2 教師なし学習"
      ],
      "metadata": {
        "id": "hC7oS3eKvpIu"
      }
    },
    {
      "cell_type": "markdown",
      "source": [
        "### 1.1.3 強化学習"
      ],
      "metadata": {
        "id": "YVMBjLEvvpMB"
      }
    },
    {
      "cell_type": "markdown",
      "source": [
        "## 1.2 バンディット問題"
      ],
      "metadata": {
        "id": "VhClRekIvpPp"
      }
    },
    {
      "cell_type": "markdown",
      "source": [
        "### 1.2.1 バンディット問題とは\n",
        "バンディット：スロットマシンの別称  \n",
        "バンディット問題における強化学習の枠組みを考える  \n",
        "- 環境：スロットマシン\n",
        "- エージェント：プレイヤー\n",
        "- 行動：プレイヤーは複数台あるスロットマシンから1台を選んでプレイする。  \n",
        "- 報酬：行動の結果、スロットマシンから受け取るコイン"
      ],
      "metadata": {
        "id": "8FlMjCgovpSz"
      }
    },
    {
      "cell_type": "markdown",
      "source": [
        "### 1.2.2 良いスロットマシンとは\n",
        "スロットマシンをプレイするような確率的事象は「期待値」を使って評価できる。"
      ],
      "metadata": {
        "id": "L83M4PCNvpVS"
      }
    },
    {
      "cell_type": "markdown",
      "source": [
        "### 1.2.3 数式を使って表す\n",
        "確率変数：取る値が確率的に決まる変数\n",
        "- A：エージェントの行う行動\n",
        "- E：期待値\n",
        "- R：報酬\n",
        "- E[R]：報酬Rの期待値\n",
        "- E[R|A]：Aという行動を選んだ場合の報酬の期待値  \n",
        "| の右側に条件を記述\n",
        "- Q:行動価値\n",
        "q(A)=E[R|A]"
      ],
      "metadata": {
        "id": "Zdj5ymFovpX0"
      }
    },
    {
      "cell_type": "markdown",
      "source": [
        "## 1.3 バンディットアルゴリズム\n",
        "プレイヤーは報酬の期待値が分からない状態で、できるだけ精度良く推定することが求められる。"
      ],
      "metadata": {
        "id": "yeiAi2OZvpa8"
      }
    },
    {
      "cell_type": "markdown",
      "source": [
        "## 1.4 価値の推定方法\n",
        "スロットマシンを実際にプレイして得られた報酬→標本平均"
      ],
      "metadata": {
        "id": "SzVLbAWTvpel"
      }
    },
    {
      "cell_type": "markdown",
      "source": [
        "### 1.3.2 平均値を求める実装"
      ],
      "metadata": {
        "id": "ONj9NxWSvpho"
      }
    },
    {
      "cell_type": "code",
      "source": [
        "import numpy as np\n",
        "\n",
        "np.random.seed(0)\n",
        "rewards = []\n",
        "\n",
        "for n in range(1, 11):# 1~10まで\n",
        "  reward = np.random.rand() # ダミーの報酬\n",
        "  rewards.append(reward)\n",
        "  Q = sum(rewards) / n\n",
        "  print(Q)"
      ],
      "metadata": {
        "colab": {
          "base_uri": "https://localhost:8080/"
        },
        "id": "F1obZTGiyDOo",
        "outputId": "6f62eee5-3eb5-4ec9-caa2-a90e252fc3f6"
      },
      "execution_count": 9,
      "outputs": [
        {
          "output_type": "stream",
          "name": "stdout",
          "text": [
            "0.5488135039273248\n",
            "0.6320014351498722\n",
            "0.6222554154571295\n",
            "0.6029123573420713\n",
            "0.567060845741438\n",
            "0.5801997236289743\n",
            "0.5598265075766483\n",
            "0.6013198192273272\n",
            "0.6415801460355164\n",
            "0.6157662833145425\n"
          ]
        }
      ]
    },
    {
      "cell_type": "markdown",
      "source": [
        "Qn-1 = (R1+R2+...+Rn-1)/(n-1)を用いて  \n",
        "Qn   = (R1+R2+...+Rn)nを変形すると、  \n",
        "Qn = Qn-1+1/n*(Rn-Qn-1)\n",
        "行動価値Qnは前回の行動価値と今回の報酬によって決まる。  \n",
        "ここで、1/nは学習率としての役割がある。  \n"
      ],
      "metadata": {
        "id": "1EQyYl-6zlwD"
      }
    },
    {
      "cell_type": "code",
      "source": [
        "Q = 0\n",
        "\n",
        "for n in range(1,11):\n",
        "  reward = np.random.rand()\n",
        "  Q = Q + (reward - Q)/n\n",
        "  print(Q)"
      ],
      "metadata": {
        "colab": {
          "base_uri": "https://localhost:8080/"
        },
        "id": "44GPWFlzzuD_",
        "outputId": "2b9215c5-8a28-4aac-9fb8-12136e750220"
      },
      "execution_count": 11,
      "outputs": [
        {
          "output_type": "stream",
          "name": "stdout",
          "text": [
            "0.7917250380826646\n",
            "0.6603099789177845\n",
            "0.6295548396431672\n",
            "0.7035652893055406\n",
            "0.5770594430840099\n",
            "0.49540441918693173\n",
            "0.4275207017945595\n",
            "0.4781580947637318\n",
            "0.5114912787844116\n",
            "0.5473433657306523\n"
          ]
        }
      ]
    },
    {
      "cell_type": "markdown",
      "source": [
        "### 1.3.3 プレイヤーの戦略\n",
        "- 活用：プレイした結果を利用して、最善と思われるスロットマシンをプレイ（=greedyな行動)\n",
        "- 探索：スロットマシンの価値を精度良く推定するために、様々なスロットマシンを試す\n",
        "活用と探索はトレードオフ  \n",
        "ε-greeedy法：最も基本的で応用の聞くアルゴリズム。  \n",
        "εの確率で活用を行う。"
      ],
      "metadata": {
        "id": "Fl0q7SgH1um7"
      }
    },
    {
      "cell_type": "markdown",
      "source": [
        "## 1.4 バンディットアルゴリズムの実装"
      ],
      "metadata": {
        "id": "sqh8pB-ZAjL-"
      }
    },
    {
      "cell_type": "markdown",
      "source": [
        "### 1.4.1 スロットマシンの実装"
      ],
      "metadata": {
        "id": "8T7kBLn5Arag"
      }
    },
    {
      "cell_type": "code",
      "source": [
        "import numpy as np\n",
        "\n",
        "class Bandit:\n",
        "  def __init__(self, arms=10):\n",
        "    self.rates = np.random.rand(arms) # 各マシンの勝率\n",
        "\n",
        "  def play(self, arm):\n",
        "    rate = self.rates[arm]\n",
        "    if rate > np.random.rand():\n",
        "      return 1\n",
        "    else:\n",
        "      return 0"
      ],
      "metadata": {
        "id": "1ks5GK-WA4vE"
      },
      "execution_count": 16,
      "outputs": []
    },
    {
      "cell_type": "code",
      "source": [
        "bandit = Bandit()\n",
        "\n",
        "for i in range(3):\n",
        "  print(bandit.play(0))"
      ],
      "metadata": {
        "colab": {
          "base_uri": "https://localhost:8080/"
        },
        "id": "WpGoOLKgBw8s",
        "outputId": "cab56cf5-1f32-4ffc-9763-c1755a2248ab"
      },
      "execution_count": 20,
      "outputs": [
        {
          "output_type": "stream",
          "name": "stdout",
          "text": [
            "0\n",
            "1\n",
            "0\n"
          ]
        }
      ]
    },
    {
      "cell_type": "markdown",
      "source": [
        "### 1.4.2 エージェントの実装"
      ],
      "metadata": {
        "id": "Kh8vtAAjBwoS"
      }
    },
    {
      "cell_type": "code",
      "source": [
        "bandit = Bandit()\n",
        "Q = 0\n",
        "\n",
        "for n in range(1,11):\n",
        "  reward = bandit.play(0) #0番目のマシンをプレイ\n",
        "  Q += (reward - Q) / n\n",
        "  print(Q)"
      ],
      "metadata": {
        "colab": {
          "base_uri": "https://localhost:8080/"
        },
        "id": "PyP4obQyCt6B",
        "outputId": "f173421f-a9d5-4cd1-8121-501966110e8d"
      },
      "execution_count": 24,
      "outputs": [
        {
          "output_type": "stream",
          "name": "stdout",
          "text": [
            "0.0\n",
            "0.0\n",
            "0.3333333333333333\n",
            "0.25\n",
            "0.4\n",
            "0.33333333333333337\n",
            "0.28571428571428575\n",
            "0.25000000000000006\n",
            "0.22222222222222227\n",
            "0.20000000000000004\n"
          ]
        }
      ]
    },
    {
      "cell_type": "code",
      "source": [
        "# 上のプログラムを配列化しただけ\n",
        "bandit = Bandit()\n",
        "Qs = np.zeros(10)\n",
        "ns = np.zeros(10)\n",
        "\n",
        "for n in range(10):\n",
        "  action = np.random.randint(1, 10) #ランダムな行動\n",
        "  reward = bandit.play(action)\n",
        "\n",
        "  ns[action] += 1\n",
        "  Qs[action] += (reward - Qs[action]) / ns[action]\n",
        "  print(Qs) "
      ],
      "metadata": {
        "colab": {
          "base_uri": "https://localhost:8080/"
        },
        "id": "zI3834P5DH9c",
        "outputId": "d885a869-6620-44cd-d16a-e71f173fdab4"
      },
      "execution_count": 39,
      "outputs": [
        {
          "output_type": "stream",
          "name": "stdout",
          "text": [
            "[0. 1. 0. 0. 0. 0. 0. 0. 0. 0.]\n",
            "[0. 1. 0. 0. 0. 0. 0. 0. 0. 0.]\n",
            "[0. 1. 0. 0. 0. 0. 0. 0. 0. 1.]\n",
            "[0. 1. 0. 0. 0. 0. 0. 0. 0. 1.]\n",
            "[0. 1. 0. 0. 0. 0. 0. 0. 0. 1.]\n",
            "[0. 1. 0. 0. 0. 0. 0. 0. 1. 1.]\n",
            "[0. 1. 0. 0. 0. 0. 0. 0. 1. 1.]\n",
            "[0. 1. 0. 0. 0. 0. 0. 0. 1. 1.]\n",
            "[0.  1.  0.  0.  0.  0.  0.  0.  0.5 1. ]\n",
            "[0.  1.  0.  0.  0.  0.  0.  0.  0.5 1. ]\n"
          ]
        }
      ]
    },
    {
      "cell_type": "code",
      "source": [
        "class Agent:\n",
        "  def __init__(self, epsilon, action_size=10):\n",
        "    self.epsilon = epsilon\n",
        "    self.Qs = np.zeros(action_size)\n",
        "    self.ns = np.zeros(action_size)\n",
        "\n",
        "  def update(self, action, reward):\n",
        "    self.ns[action] += 1\n",
        "    self.Qs[action] += (reward - self.Qs[action]) / self.ns[action]\n",
        "\n",
        "  def get_action(self):\n",
        "    if np.random.rand() < self.epsilon:\n",
        "      return np.random.randint(0, len(self.Qs))#epsilon \n",
        "    return np.argmax(self.Qs)#greedy"
      ],
      "metadata": {
        "id": "LD8ESt2uDigr"
      },
      "execution_count": 40,
      "outputs": []
    },
    {
      "cell_type": "code",
      "source": [
        ""
      ],
      "metadata": {
        "id": "d6FYhepAECED"
      },
      "execution_count": null,
      "outputs": []
    }
  ],
  "metadata": {
    "colab": {
      "name": "DL_Zero4_1.ipynb",
      "provenance": [],
      "toc_visible": true,
      "authorship_tag": "ABX9TyNrU+3g8s8bPobfh8Axwc/7",
      "include_colab_link": true
    },
    "kernelspec": {
      "display_name": "Python 3",
      "name": "python3"
    },
    "language_info": {
      "name": "python"
    }
  },
  "nbformat": 4,
  "nbformat_minor": 0
}
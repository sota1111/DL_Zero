{
  "cells": [
    {
      "cell_type": "markdown",
      "metadata": {
        "id": "view-in-github",
        "colab_type": "text"
      },
      "source": [
        "<a href=\"https://colab.research.google.com/github/sota1111/DL_Zero4/blob/main/DL_Zero4_1.ipynb\" target=\"_parent\"><img src=\"https://colab.research.google.com/assets/colab-badge.svg\" alt=\"Open In Colab\"/></a>"
      ]
    },
    {
      "cell_type": "code",
      "execution_count": 2,
      "metadata": {
        "colab": {
          "base_uri": "https://localhost:8080/"
        },
        "id": "JFqgdCKz8Gyv",
        "outputId": "c0e4006f-65b4-416f-b4cc-05c1176da181"
      },
      "outputs": [
        {
          "output_type": "stream",
          "name": "stdout",
          "text": [
            "Mounted at /content/drive\n"
          ]
        }
      ],
      "source": [
        "from google.colab import drive\n",
        "drive.mount('/content/drive')\n",
        "\n",
        "import os, sys\n",
        "os.chdir('/content/drive/MyDrive/DL_Zero')"
      ]
    },
    {
      "cell_type": "code",
      "execution_count": 3,
      "metadata": {
        "id": "-Rz9YvW58MyK"
      },
      "outputs": [],
      "source": [
        "!git config --global user.email \"sota.moro@gmail.com\"\n",
        "!git config --global user.name \"sota1111\""
      ]
    },
    {
      "cell_type": "code",
      "execution_count": 1,
      "metadata": {
        "colab": {
          "base_uri": "https://localhost:8080/"
        },
        "id": "NjQq7LYT8RQR",
        "outputId": "cca88674-f883-4832-8d82-abbb4bf9b2e8"
      },
      "outputs": [
        {
          "output_type": "stream",
          "name": "stdout",
          "text": [
            "Looking in indexes: https://pypi.org/simple, https://us-python.pkg.dev/colab-wheels/public/simple/\n",
            "Requirement already satisfied: numpy in /usr/local/lib/python3.7/dist-packages (1.21.6)\n",
            "Requirement already satisfied: matplotlib in /usr/local/lib/python3.7/dist-packages (3.2.2)\n",
            "Requirement already satisfied: ipython in /usr/local/lib/python3.7/dist-packages (5.5.0)\n",
            "Requirement already satisfied: scikit-learn in /usr/local/lib/python3.7/dist-packages (1.0.2)\n",
            "Requirement already satisfied: pandas in /usr/local/lib/python3.7/dist-packages (1.3.5)\n",
            "Requirement already satisfied: pillow in /usr/local/lib/python3.7/dist-packages (7.1.2)\n",
            "Requirement already satisfied: python-dateutil>=2.1 in /usr/local/lib/python3.7/dist-packages (from matplotlib) (2.8.2)\n",
            "Requirement already satisfied: pyparsing!=2.0.4,!=2.1.2,!=2.1.6,>=2.0.1 in /usr/local/lib/python3.7/dist-packages (from matplotlib) (3.0.9)\n",
            "Requirement already satisfied: kiwisolver>=1.0.1 in /usr/local/lib/python3.7/dist-packages (from matplotlib) (1.4.4)\n",
            "Requirement already satisfied: cycler>=0.10 in /usr/local/lib/python3.7/dist-packages (from matplotlib) (0.11.0)\n",
            "Requirement already satisfied: typing-extensions in /usr/local/lib/python3.7/dist-packages (from kiwisolver>=1.0.1->matplotlib) (4.1.1)\n",
            "Requirement already satisfied: six>=1.5 in /usr/local/lib/python3.7/dist-packages (from python-dateutil>=2.1->matplotlib) (1.15.0)\n",
            "Requirement already satisfied: pygments in /usr/local/lib/python3.7/dist-packages (from ipython) (2.6.1)\n",
            "Requirement already satisfied: traitlets>=4.2 in /usr/local/lib/python3.7/dist-packages (from ipython) (5.1.1)\n",
            "Requirement already satisfied: setuptools>=18.5 in /usr/local/lib/python3.7/dist-packages (from ipython) (57.4.0)\n",
            "Requirement already satisfied: simplegeneric>0.8 in /usr/local/lib/python3.7/dist-packages (from ipython) (0.8.1)\n",
            "Requirement already satisfied: decorator in /usr/local/lib/python3.7/dist-packages (from ipython) (4.4.2)\n",
            "Requirement already satisfied: pexpect in /usr/local/lib/python3.7/dist-packages (from ipython) (4.8.0)\n",
            "Requirement already satisfied: prompt-toolkit<2.0.0,>=1.0.4 in /usr/local/lib/python3.7/dist-packages (from ipython) (1.0.18)\n",
            "Requirement already satisfied: pickleshare in /usr/local/lib/python3.7/dist-packages (from ipython) (0.7.5)\n",
            "Requirement already satisfied: wcwidth in /usr/local/lib/python3.7/dist-packages (from prompt-toolkit<2.0.0,>=1.0.4->ipython) (0.2.5)\n",
            "Requirement already satisfied: scipy>=1.1.0 in /usr/local/lib/python3.7/dist-packages (from scikit-learn) (1.7.3)\n",
            "Requirement already satisfied: joblib>=0.11 in /usr/local/lib/python3.7/dist-packages (from scikit-learn) (1.1.0)\n",
            "Requirement already satisfied: threadpoolctl>=2.0.0 in /usr/local/lib/python3.7/dist-packages (from scikit-learn) (3.1.0)\n",
            "Requirement already satisfied: pytz>=2017.3 in /usr/local/lib/python3.7/dist-packages (from pandas) (2022.1)\n",
            "Requirement already satisfied: ptyprocess>=0.5 in /usr/local/lib/python3.7/dist-packages (from pexpect->ipython) (0.7.0)\n"
          ]
        }
      ],
      "source": [
        "!pip install numpy matplotlib ipython scikit-learn pandas pillow"
      ]
    },
    {
      "cell_type": "code",
      "source": [
        "import numpy as np\n",
        "import matplotlib.pyplot as plt\n",
        "import pandas as pd\n",
        "from IPython.display import display"
      ],
      "metadata": {
        "id": "Enei8dXLp6Zv"
      },
      "execution_count": 5,
      "outputs": []
    },
    {
      "cell_type": "markdown",
      "source": [
        "# 1章 バンディット問題"
      ],
      "metadata": {
        "id": "MHmdN3DrqP2F"
      }
    },
    {
      "cell_type": "markdown",
      "source": [
        "## 1.1 機械学習の分類と強化学習"
      ],
      "metadata": {
        "id": "wB2YnCN2qVVP"
      }
    },
    {
      "cell_type": "markdown",
      "source": [
        "### 1.1.1 教師あり学習"
      ],
      "metadata": {
        "id": "QqQ0L70jvpEp"
      }
    },
    {
      "cell_type": "markdown",
      "source": [
        "### 1.1.2 教師なし学習"
      ],
      "metadata": {
        "id": "hC7oS3eKvpIu"
      }
    },
    {
      "cell_type": "markdown",
      "source": [
        "### 1.1.3 強化学習"
      ],
      "metadata": {
        "id": "YVMBjLEvvpMB"
      }
    },
    {
      "cell_type": "markdown",
      "source": [
        "## 1.2 バンディット問題"
      ],
      "metadata": {
        "id": "VhClRekIvpPp"
      }
    },
    {
      "cell_type": "markdown",
      "source": [
        "### 1.2.1 バンディット問題とは\n",
        "バンディット：スロットマシンの別称  \n",
        "バンディット問題における強化学習の枠組みを考える  \n",
        "- 環境：スロットマシン\n",
        "- エージェント：プレイヤー\n",
        "- 行動：プレイヤーは複数台あるスロットマシンから1台を選んでプレイする。  \n",
        "- 報酬：行動の結果、スロットマシンから受け取るコイン"
      ],
      "metadata": {
        "id": "8FlMjCgovpSz"
      }
    },
    {
      "cell_type": "markdown",
      "source": [
        "### 1.2.2 良いスロットマシンとは\n",
        "スロットマシンをプレイするような確率的事象は「期待値」を使って評価できる。"
      ],
      "metadata": {
        "id": "L83M4PCNvpVS"
      }
    },
    {
      "cell_type": "markdown",
      "source": [
        "### 1.2.3 数式を使って表す\n",
        "確率変数：取る値が確率的に決まる変数\n",
        "- A：エージェントの行う行動\n",
        "- E：期待値\n",
        "- R：報酬\n",
        "- E[R]：報酬Rの期待値\n",
        "- E[R|A]：Aという行動を選んだ場合の報酬の期待値  \n",
        "| の右側に条件を記述\n",
        "- Q:行動価値\n",
        "q(A)=E[R|A]"
      ],
      "metadata": {
        "id": "Zdj5ymFovpX0"
      }
    },
    {
      "cell_type": "markdown",
      "source": [
        "## 1.3 バンディットアルゴリズム\n",
        "プレイヤーは報酬の期待値が分からない状態で、できるだけ精度良く推定することが求められる。"
      ],
      "metadata": {
        "id": "yeiAi2OZvpa8"
      }
    },
    {
      "cell_type": "markdown",
      "source": [
        "## 1.4 価値の推定方法\n",
        "スロットマシンを実際にプレイして得られた報酬→標本平均"
      ],
      "metadata": {
        "id": "SzVLbAWTvpel"
      }
    },
    {
      "cell_type": "markdown",
      "source": [
        "### 1.3.2 平均値を求める実装"
      ],
      "metadata": {
        "id": "ONj9NxWSvpho"
      }
    },
    {
      "cell_type": "code",
      "source": [
        "import numpy as np\n",
        "\n",
        "np.random.seed(0)\n",
        "rewards = []\n",
        "\n",
        "for n in"
      ],
      "metadata": {
        "colab": {
          "base_uri": "https://localhost:8080/",
          "height": 135
        },
        "id": "F1obZTGiyDOo",
        "outputId": "6c01a9e4-ac37-4514-e545-d1f7e0224619"
      },
      "execution_count": 6,
      "outputs": [
        {
          "output_type": "error",
          "ename": "SyntaxError",
          "evalue": "ignored",
          "traceback": [
            "\u001b[0;36m  File \u001b[0;32m\"<ipython-input-6-0da316d8654b>\"\u001b[0;36m, line \u001b[0;32m6\u001b[0m\n\u001b[0;31m    for n in\u001b[0m\n\u001b[0m            ^\u001b[0m\n\u001b[0;31mSyntaxError\u001b[0m\u001b[0;31m:\u001b[0m invalid syntax\n"
          ]
        }
      ]
    },
    {
      "cell_type": "code",
      "source": [
        ""
      ],
      "metadata": {
        "id": "Nqg8FHeHyPbM"
      },
      "execution_count": null,
      "outputs": []
    }
  ],
  "metadata": {
    "colab": {
      "name": "DL_Zero4_1.ipynb",
      "provenance": [],
      "toc_visible": true,
      "authorship_tag": "ABX9TyMI6BGb3BDVmmcvzoavJQiK",
      "include_colab_link": true
    },
    "kernelspec": {
      "display_name": "Python 3",
      "name": "python3"
    },
    "language_info": {
      "name": "python"
    }
  },
  "nbformat": 4,
  "nbformat_minor": 0
}
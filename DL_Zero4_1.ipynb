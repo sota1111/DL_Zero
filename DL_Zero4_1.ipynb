{
  "cells": [
    {
      "cell_type": "markdown",
      "metadata": {
        "id": "view-in-github",
        "colab_type": "text"
      },
      "source": [
        "<a href=\"https://colab.research.google.com/github/sota1111/DL_Zero4/blob/main/DL_Zero4_1.ipynb\" target=\"_parent\"><img src=\"https://colab.research.google.com/assets/colab-badge.svg\" alt=\"Open In Colab\"/></a>"
      ]
    },
    {
      "cell_type": "code",
      "execution_count": 1,
      "metadata": {
        "colab": {
          "base_uri": "https://localhost:8080/"
        },
        "id": "JFqgdCKz8Gyv",
        "outputId": "b21cdddb-1963-4f1f-c236-fe4fab750089"
      },
      "outputs": [
        {
          "output_type": "stream",
          "name": "stdout",
          "text": [
            "Drive already mounted at /content/drive; to attempt to forcibly remount, call drive.mount(\"/content/drive\", force_remount=True).\n"
          ]
        }
      ],
      "source": [
        "from google.colab import drive\n",
        "drive.mount('/content/drive')\n",
        "\n",
        "import os, sys\n",
        "os.chdir('/content/drive/MyDrive/DL_Zero/DL_Zero4')"
      ]
    },
    {
      "cell_type": "code",
      "execution_count": 2,
      "metadata": {
        "id": "-Rz9YvW58MyK"
      },
      "outputs": [],
      "source": [
        "!git config --global user.email \"sota.moro@gmail.com\"\n",
        "!git config --global user.name \"sota1111\""
      ]
    },
    {
      "cell_type": "code",
      "execution_count": 3,
      "metadata": {
        "colab": {
          "base_uri": "https://localhost:8080/"
        },
        "id": "NjQq7LYT8RQR",
        "outputId": "a70553aa-9b14-416a-8888-7215979fffa9"
      },
      "outputs": [
        {
          "output_type": "stream",
          "name": "stdout",
          "text": [
            "Looking in indexes: https://pypi.org/simple, https://us-python.pkg.dev/colab-wheels/public/simple/\n",
            "Requirement already satisfied: numpy in /usr/local/lib/python3.7/dist-packages (1.21.6)\n",
            "Requirement already satisfied: matplotlib in /usr/local/lib/python3.7/dist-packages (3.2.2)\n",
            "Requirement already satisfied: ipython in /usr/local/lib/python3.7/dist-packages (5.5.0)\n",
            "Requirement already satisfied: scikit-learn in /usr/local/lib/python3.7/dist-packages (1.0.2)\n",
            "Requirement already satisfied: pandas in /usr/local/lib/python3.7/dist-packages (1.3.5)\n",
            "Requirement already satisfied: pillow in /usr/local/lib/python3.7/dist-packages (7.1.2)\n",
            "Requirement already satisfied: pyparsing!=2.0.4,!=2.1.2,!=2.1.6,>=2.0.1 in /usr/local/lib/python3.7/dist-packages (from matplotlib) (3.0.9)\n",
            "Requirement already satisfied: kiwisolver>=1.0.1 in /usr/local/lib/python3.7/dist-packages (from matplotlib) (1.4.4)\n",
            "Requirement already satisfied: python-dateutil>=2.1 in /usr/local/lib/python3.7/dist-packages (from matplotlib) (2.8.2)\n",
            "Requirement already satisfied: cycler>=0.10 in /usr/local/lib/python3.7/dist-packages (from matplotlib) (0.11.0)\n",
            "Requirement already satisfied: typing-extensions in /usr/local/lib/python3.7/dist-packages (from kiwisolver>=1.0.1->matplotlib) (4.1.1)\n",
            "Requirement already satisfied: six>=1.5 in /usr/local/lib/python3.7/dist-packages (from python-dateutil>=2.1->matplotlib) (1.15.0)\n",
            "Requirement already satisfied: pexpect in /usr/local/lib/python3.7/dist-packages (from ipython) (4.8.0)\n",
            "Requirement already satisfied: pickleshare in /usr/local/lib/python3.7/dist-packages (from ipython) (0.7.5)\n",
            "Requirement already satisfied: decorator in /usr/local/lib/python3.7/dist-packages (from ipython) (4.4.2)\n",
            "Requirement already satisfied: traitlets>=4.2 in /usr/local/lib/python3.7/dist-packages (from ipython) (5.1.1)\n",
            "Requirement already satisfied: setuptools>=18.5 in /usr/local/lib/python3.7/dist-packages (from ipython) (57.4.0)\n",
            "Requirement already satisfied: prompt-toolkit<2.0.0,>=1.0.4 in /usr/local/lib/python3.7/dist-packages (from ipython) (1.0.18)\n",
            "Requirement already satisfied: simplegeneric>0.8 in /usr/local/lib/python3.7/dist-packages (from ipython) (0.8.1)\n",
            "Requirement already satisfied: pygments in /usr/local/lib/python3.7/dist-packages (from ipython) (2.6.1)\n",
            "Requirement already satisfied: wcwidth in /usr/local/lib/python3.7/dist-packages (from prompt-toolkit<2.0.0,>=1.0.4->ipython) (0.2.5)\n",
            "Requirement already satisfied: threadpoolctl>=2.0.0 in /usr/local/lib/python3.7/dist-packages (from scikit-learn) (3.1.0)\n",
            "Requirement already satisfied: joblib>=0.11 in /usr/local/lib/python3.7/dist-packages (from scikit-learn) (1.1.0)\n",
            "Requirement already satisfied: scipy>=1.1.0 in /usr/local/lib/python3.7/dist-packages (from scikit-learn) (1.7.3)\n",
            "Requirement already satisfied: pytz>=2017.3 in /usr/local/lib/python3.7/dist-packages (from pandas) (2022.1)\n",
            "Requirement already satisfied: ptyprocess>=0.5 in /usr/local/lib/python3.7/dist-packages (from pexpect->ipython) (0.7.0)\n"
          ]
        }
      ],
      "source": [
        "!pip install numpy matplotlib ipython scikit-learn pandas pillow"
      ]
    },
    {
      "cell_type": "code",
      "source": [
        "import numpy as np\n",
        "import matplotlib.pyplot as plt\n",
        "import pandas as pd\n",
        "from IPython.display import display"
      ],
      "metadata": {
        "id": "Enei8dXLp6Zv"
      },
      "execution_count": 4,
      "outputs": []
    },
    {
      "cell_type": "markdown",
      "source": [
        "# 1章 バンディット問題"
      ],
      "metadata": {
        "id": "MHmdN3DrqP2F"
      }
    },
    {
      "cell_type": "markdown",
      "source": [
        "## 1.1 機械学習の分類と強化学習"
      ],
      "metadata": {
        "id": "wB2YnCN2qVVP"
      }
    },
    {
      "cell_type": "markdown",
      "source": [
        "### 1.1.1 教師あり学習"
      ],
      "metadata": {
        "id": "QqQ0L70jvpEp"
      }
    },
    {
      "cell_type": "markdown",
      "source": [
        "### 1.1.2 教師なし学習"
      ],
      "metadata": {
        "id": "hC7oS3eKvpIu"
      }
    },
    {
      "cell_type": "markdown",
      "source": [
        "### 1.1.3 強化学習"
      ],
      "metadata": {
        "id": "YVMBjLEvvpMB"
      }
    },
    {
      "cell_type": "markdown",
      "source": [
        "## 1.2 バンディット問題"
      ],
      "metadata": {
        "id": "VhClRekIvpPp"
      }
    },
    {
      "cell_type": "markdown",
      "source": [
        "### 1.2.1 バンディット問題とは\n",
        "バンディット：スロットマシンの別称  \n",
        "バンディット問題における強化学習の枠組みを考える  \n",
        "- 環境：スロットマシン\n",
        "- エージェント：プレイヤー\n",
        "- 行動：プレイヤーは複数台あるスロットマシンから1台を選んでプレイする。  \n",
        "- 報酬：行動の結果、スロットマシンから受け取るコイン"
      ],
      "metadata": {
        "id": "8FlMjCgovpSz"
      }
    },
    {
      "cell_type": "markdown",
      "source": [
        "### 1.2.2 良いスロットマシンとは\n",
        "スロットマシンをプレイするような確率的事象は「期待値」を使って評価できる。"
      ],
      "metadata": {
        "id": "L83M4PCNvpVS"
      }
    },
    {
      "cell_type": "markdown",
      "source": [
        "### 1.2.3 数式を使って表す\n",
        "確率変数：取る値が確率的に決まる変数\n",
        "- A：エージェントの行う行動\n",
        "- E：期待値\n",
        "- R：報酬\n",
        "- E[R]：報酬Rの期待値\n",
        "- E[R|A]：Aという行動を選んだ場合の報酬の期待値  \n",
        "| の右側に条件を記述\n",
        "- Q:行動価値\n",
        "q(A)=E[R|A]"
      ],
      "metadata": {
        "id": "Zdj5ymFovpX0"
      }
    },
    {
      "cell_type": "markdown",
      "source": [
        "## 1.3 バンディットアルゴリズム\n",
        "プレイヤーは報酬の期待値が分からない状態で、できるだけ精度良く推定することが求められる。"
      ],
      "metadata": {
        "id": "yeiAi2OZvpa8"
      }
    },
    {
      "cell_type": "markdown",
      "source": [
        "## 1.4 価値の推定方法\n",
        "スロットマシンを実際にプレイして得られた報酬→標本平均"
      ],
      "metadata": {
        "id": "SzVLbAWTvpel"
      }
    },
    {
      "cell_type": "markdown",
      "source": [
        "### 1.3.2 平均値を求める実装"
      ],
      "metadata": {
        "id": "ONj9NxWSvpho"
      }
    },
    {
      "cell_type": "code",
      "source": [
        "import numpy as np\n",
        "\n",
        "np.random.seed(0)\n",
        "rewards = []\n",
        "\n",
        "for n in range(1, 11):# 1~10まで\n",
        "  reward = np.random.rand() # ダミーの報酬\n",
        "  rewards.append(reward)\n",
        "  Q = sum(rewards) / n\n",
        "  print(Q)"
      ],
      "metadata": {
        "colab": {
          "base_uri": "https://localhost:8080/"
        },
        "id": "F1obZTGiyDOo",
        "outputId": "7d610858-fb86-4377-ccfc-3c30c4bacb9c"
      },
      "execution_count": 5,
      "outputs": [
        {
          "output_type": "stream",
          "name": "stdout",
          "text": [
            "0.5488135039273248\n",
            "0.6320014351498722\n",
            "0.6222554154571295\n",
            "0.6029123573420713\n",
            "0.567060845741438\n",
            "0.5801997236289743\n",
            "0.5598265075766483\n",
            "0.6013198192273272\n",
            "0.6415801460355164\n",
            "0.6157662833145425\n"
          ]
        }
      ]
    },
    {
      "cell_type": "markdown",
      "source": [
        "Qn-1 = (R1+R2+...+Rn-1)/(n-1)を用いて  \n",
        "Qn   = (R1+R2+...+Rn)nを変形すると、  \n",
        "Qn = Qn-1+1/n*(Rn-Qn-1)  \n",
        "行動価値Qnは前回の行動価値と今回の報酬によって決まる。  \n",
        "ここで、1/nは学習率としての役割がある。  \n"
      ],
      "metadata": {
        "id": "1EQyYl-6zlwD"
      }
    },
    {
      "cell_type": "code",
      "source": [
        "Q = 0\n",
        "\n",
        "for n in range(1,11):\n",
        "  reward = np.random.rand()\n",
        "  Q = Q + (reward - Q)/n\n",
        "  print(Q)"
      ],
      "metadata": {
        "colab": {
          "base_uri": "https://localhost:8080/"
        },
        "id": "44GPWFlzzuD_",
        "outputId": "bddc991e-b495-4444-eb95-e7de5d42eddd"
      },
      "execution_count": 6,
      "outputs": [
        {
          "output_type": "stream",
          "name": "stdout",
          "text": [
            "0.7917250380826646\n",
            "0.6603099789177845\n",
            "0.6295548396431672\n",
            "0.7035652893055406\n",
            "0.5770594430840099\n",
            "0.49540441918693173\n",
            "0.4275207017945595\n",
            "0.4781580947637318\n",
            "0.5114912787844116\n",
            "0.5473433657306523\n"
          ]
        }
      ]
    },
    {
      "cell_type": "markdown",
      "source": [
        "### 1.3.3 プレイヤーの戦略\n",
        "- 活用：プレイした結果を利用して、最善と思われるスロットマシンをプレイ（=greedyな行動)\n",
        "- 探索：スロットマシンの価値を精度良く推定するために、様々なスロットマシンを試す\n",
        "活用と探索はトレードオフ  \n",
        "ε-greeedy法：最も基本的で応用の聞くアルゴリズム。  \n",
        "εの確率で活用を行う。"
      ],
      "metadata": {
        "id": "Fl0q7SgH1um7"
      }
    },
    {
      "cell_type": "markdown",
      "source": [
        "## 1.4 バンディットアルゴリズムの実装"
      ],
      "metadata": {
        "id": "sqh8pB-ZAjL-"
      }
    },
    {
      "cell_type": "markdown",
      "source": [
        "### 1.4.1 スロットマシンの実装"
      ],
      "metadata": {
        "id": "8T7kBLn5Arag"
      }
    },
    {
      "cell_type": "code",
      "source": [
        "#　各マシンを初期化した値より小さい値の場合１を返す\n",
        "import numpy as np\n",
        "\n",
        "class Bandit:\n",
        "  def __init__(self, arms=10):\n",
        "    self.rates = np.random.rand(arms) # 各マシンの勝率\n",
        "\n",
        "  def play(self, arm):\n",
        "    rate = self.rates[arm]\n",
        "    if rate > np.random.rand():\n",
        "      return 1\n",
        "    else:\n",
        "      return 0"
      ],
      "metadata": {
        "id": "1ks5GK-WA4vE"
      },
      "execution_count": 7,
      "outputs": []
    },
    {
      "cell_type": "code",
      "source": [
        "bandit = Bandit()\n",
        "\n",
        "for i in range(3):\n",
        "  print(bandit.play(0))"
      ],
      "metadata": {
        "colab": {
          "base_uri": "https://localhost:8080/"
        },
        "id": "WpGoOLKgBw8s",
        "outputId": "8f387cdd-343a-4689-fc30-78aad15ea46e"
      },
      "execution_count": 8,
      "outputs": [
        {
          "output_type": "stream",
          "name": "stdout",
          "text": [
            "1\n",
            "1\n",
            "1\n"
          ]
        }
      ]
    },
    {
      "cell_type": "markdown",
      "source": [
        "### 1.4.2 エージェントの実装"
      ],
      "metadata": {
        "id": "Kh8vtAAjBwoS"
      }
    },
    {
      "cell_type": "code",
      "source": [
        "bandit = Bandit()\n",
        "Q = 0\n",
        "\n",
        "for n in range(1,11):\n",
        "  reward = bandit.play(0) #0番目のマシンをプレイ\n",
        "  Q += (reward - Q) / n\n",
        "  print(Q)"
      ],
      "metadata": {
        "colab": {
          "base_uri": "https://localhost:8080/"
        },
        "id": "PyP4obQyCt6B",
        "outputId": "7586a442-5a7d-4c4e-c287-8e0ceba5055b"
      },
      "execution_count": 9,
      "outputs": [
        {
          "output_type": "stream",
          "name": "stdout",
          "text": [
            "1.0\n",
            "0.5\n",
            "0.33333333333333337\n",
            "0.5\n",
            "0.6\n",
            "0.6666666666666666\n",
            "0.7142857142857143\n",
            "0.625\n",
            "0.6666666666666666\n",
            "0.6\n"
          ]
        }
      ]
    },
    {
      "cell_type": "code",
      "source": [
        "# 上のプログラムを配列化しただけ\n",
        "bandit = Bandit()\n",
        "Qs = np.zeros(10)\n",
        "ns = np.zeros(10)\n",
        "\n",
        "for n in range(10):\n",
        "  action = np.random.randint(1, 10) #ランダムな行動\n",
        "  reward = bandit.play(action)\n",
        "\n",
        "  ns[action] += 1\n",
        "  Qs[action] += (reward - Qs[action]) / ns[action]\n",
        "  print(Qs) "
      ],
      "metadata": {
        "colab": {
          "base_uri": "https://localhost:8080/"
        },
        "id": "zI3834P5DH9c",
        "outputId": "32d04f07-4b76-4b54-f3ef-e7004015dea2"
      },
      "execution_count": 10,
      "outputs": [
        {
          "output_type": "stream",
          "name": "stdout",
          "text": [
            "[0. 0. 0. 0. 0. 0. 0. 0. 0. 0.]\n",
            "[0. 0. 0. 0. 0. 0. 0. 0. 0. 0.]\n",
            "[0. 0. 0. 0. 0. 0. 1. 0. 0. 0.]\n",
            "[0. 0. 0. 0. 0. 0. 1. 0. 0. 0.]\n",
            "[0. 0. 0. 0. 0. 0. 1. 0. 0. 0.]\n",
            "[0. 0. 0. 0. 0. 0. 1. 0. 0. 0.]\n",
            "[0. 0. 0. 0. 0. 0. 1. 0. 0. 0.]\n",
            "[0. 0. 0. 0. 0. 0. 1. 0. 0. 0.]\n",
            "[0. 0. 0. 0. 0. 0. 1. 0. 0. 0.]\n",
            "[0. 0. 0. 0. 0. 0. 1. 0. 0. 0.]\n"
          ]
        }
      ]
    },
    {
      "cell_type": "code",
      "source": [
        "# 各マシンの報酬を返す。ε-greedyに従ってactionを選択する\n",
        "class Agent:\n",
        "  def __init__(self, epsilon, action_size=10):\n",
        "    self.epsilon = epsilon\n",
        "    self.Qs = np.zeros(action_size)\n",
        "    self.ns = np.zeros(action_size)\n",
        "\n",
        "  def update(self, action, reward):\n",
        "    self.ns[action] += 1\n",
        "    self.Qs[action] += (reward - self.Qs[action]) / self.ns[action]\n",
        "\n",
        "  def get_action(self):\n",
        "    if np.random.rand() < self.epsilon:\n",
        "      return np.random.randint(0, len(self.Qs))#epsilon \n",
        "    return np.argmax(self.Qs)#greedy"
      ],
      "metadata": {
        "id": "LD8ESt2uDigr"
      },
      "execution_count": 11,
      "outputs": []
    },
    {
      "cell_type": "markdown",
      "source": [
        "### 1.4.3 動かしてみる"
      ],
      "metadata": {
        "id": "5P3SoyO9FTP9"
      }
    },
    {
      "cell_type": "code",
      "source": [
        "import matplotlib.pyplot as plt\n",
        "\n",
        "steps = 1000\n",
        "epsilon = 0.1\n",
        "\n",
        "bandit = Bandit()\n",
        "agent = Agent(epsilon)\n",
        "total_reward = 0\n",
        "total_rewards = []\n",
        "rates = []\n",
        "\n",
        "for step in range(steps):\n",
        "  action = agent.get_action()  #①行動を選択\n",
        "  reward = bandit.play(action) #②実際にプレイした報酬を得る\n",
        "  agent.update(action, reward) #③行動と報酬から学ぶ\n",
        "  total_reward += reward\n",
        "\n",
        "  total_rewards.append(total_reward)\n",
        "  rates.append(total_reward / (step+1))\n",
        "\n",
        "print(total_reward)\n",
        "\n",
        "# グラフの描画（１）\n",
        "plt.ylabel('Total reward')\n",
        "plt.xlabel('Steps')\n",
        "plt.plot(total_rewards)\n",
        "plt.show()\n",
        "\n",
        "# グラフの描画(2)\n",
        "plt.ylabel('Rates')\n",
        "plt.xlabel('Steps')\n",
        "plt.plot(rates)\n",
        "plt.show()"
      ],
      "metadata": {
        "colab": {
          "base_uri": "https://localhost:8080/",
          "height": 558
        },
        "id": "Rqq_paEXFaAr",
        "outputId": "ff838831-baa3-4462-d76a-86ee542a647d"
      },
      "execution_count": 12,
      "outputs": [
        {
          "output_type": "stream",
          "name": "stdout",
          "text": [
            "872\n"
          ]
        },
        {
          "output_type": "display_data",
          "data": {
            "text/plain": [
              "<Figure size 432x288 with 1 Axes>"
            ],
            "image/png": "[encoded data removed]"
          },
          "metadata": {
            "needs_background": "light"
          }
        },
        {
          "output_type": "display_data",
          "data": {
            "text/plain": [
              "<Figure size 432x288 with 1 Axes>"
            ],
            "image/png": "[encoded data removed]"
          },
          "metadata": {
            "needs_background": "light"
          }
        }
      ]
    },
    {
      "cell_type": "code",
      "source": [
        "runs = 200\n",
        "steps = 1000\n",
        "epsilon = 0.1\n",
        "all_rates = np.zeros((runs, steps))\n",
        "\n",
        "for run in range(runs):\n",
        "  bandit = Bandit()\n",
        "  agent = Agent(epsilon)\n",
        "  total_reward = 0\n",
        "  total_rewards = []\n",
        "  rates = []\n",
        "  \n",
        "  for step in range(steps):\n",
        "    action = agent.get_action()  #①行動を選択\n",
        "    reward = bandit.play(action) #②実際にプレイした報酬を得る\n",
        "    agent.update(action, reward) #③行動と報酬から学ぶ\n",
        "    total_reward += reward\n",
        "\n",
        "    total_rewards.append(total_reward)\n",
        "    rates.append(total_reward / (step+1))\n",
        "\n",
        "  all_rates[run] = rates # ①報酬の結果を記録する\n",
        "  \n",
        "avg_rates = np.average(all_rates, axis=0) # ②各ステップにおける平均を求める\n",
        "\n",
        "# グラフの描画\n",
        "plt.ylabel('Rates')\n",
        "plt.xlabel('Steps')\n",
        "plt.plot(avg_rates)\n",
        "plt.show()"
      ],
      "metadata": {
        "colab": {
          "base_uri": "https://localhost:8080/",
          "height": 279
        },
        "id": "-i597oLOINB3",
        "outputId": "73f53787-34b0-4a6f-b15a-5b18fce72575"
      },
      "execution_count": 13,
      "outputs": [
        {
          "output_type": "display_data",
          "data": {
            "text/plain": [
              "<Figure size 432x288 with 1 Axes>"
            ],
            "image/png": "[encoded data removed]"
          },
          "metadata": {
            "needs_background": "light"
          }
        }
      ]
    },
    {
      "cell_type": "markdown",
      "source": [
        "## 1.5 非定常問題\n",
        "- 定常問題：報酬の確率分布が定常である\n",
        "- 非定常問題：報酬の確率分布が変動する"
      ],
      "metadata": {
        "id": "rKPIXbj_RQ_8"
      }
    },
    {
      "cell_type": "code",
      "source": [
        "# 定常問題\n",
        "class Bandit:\n",
        "  def __init__(self, arms=10):\n",
        "    self.rates = np.random.rand(arms) # 各マシンの勝率\n",
        "\n",
        "  def play(self, arm):\n",
        "    rate = self.rates[arm]\n",
        "    if rate > np.random.rand():\n",
        "      return 1\n",
        "    else:\n",
        "      return 0"
      ],
      "metadata": {
        "id": "SIkc3VlUR2u1"
      },
      "execution_count": 14,
      "outputs": []
    },
    {
      "cell_type": "code",
      "source": [
        "# 非定常問題\n",
        "class NonStatBandit:\n",
        "  def __init__(self, arms=10):\n",
        "    self.arms = arms\n",
        "    self.rates = np.random.rand(arms) # 各マシンの勝率\n",
        "\n",
        "  def play(self, arm):\n",
        "    rate = self.rates[arm]\n",
        "    self.rates += 0.1 * np.random.randn(self.arms) # ノイズを追加\n",
        "    if rate > np.random.rand():\n",
        "      return 1\n",
        "    else:\n",
        "      return 0"
      ],
      "metadata": {
        "id": "BsAP8FLWLBh-"
      },
      "execution_count": 15,
      "outputs": []
    },
    {
      "cell_type": "markdown",
      "source": [
        "### 1.5.1 非定常問題を解くためには\n",
        "Qn = Qn-1+1/n*(Rn-Qn-1)の1/nをα(0<α<1)に変更  \n",
        "Qn = Qn-1+α*(Rn-Qn-1)\n",
        "上記のように変形すると、過去の報酬は指数関数的に減少する。"
      ],
      "metadata": {
        "id": "-A4OcYG3RRIn"
      }
    },
    {
      "cell_type": "markdown",
      "source": [
        "### 1.5.2 非定常問題を解く"
      ],
      "metadata": {
        "id": "sIUy-KxXUHmQ"
      }
    },
    {
      "cell_type": "code",
      "source": [
        "class AlphaAgent:\n",
        "  def __init__(self, epsilon, alpha, actions=10):\n",
        "    self.epsilon = epsilon\n",
        "    self.Qs = np.zeros(actions)\n",
        "    self.alpha = alpha\n",
        "\n",
        "  def update(self, action, reward):\n",
        "    # alphaで更新\n",
        "    self.Qs[action] += (reward - self.Qs[action]) * self.alpha\n",
        "\n",
        "  def get_action(self):\n",
        "    if np.random.rand() < self.epsilon:\n",
        "      return np.random.randint(0, len(self.Qs))\n",
        "    return np.argmax(self.Qs)"
      ],
      "metadata": {
        "id": "WBgF1HfbUGTf"
      },
      "execution_count": 16,
      "outputs": []
    },
    {
      "cell_type": "code",
      "source": [
        "import matplotlib.pyplot as plt\n",
        "\n",
        "steps = 1000\n",
        "epsilon = 0.1\n",
        "alpha = 0.8\n",
        "\n",
        "bandit = NonStatBandit()\n",
        "agent = AlphaAgent(epsilon, alpha)\n",
        "total_reward = 0\n",
        "total_rewards = []\n",
        "rates = []\n",
        "\n",
        "for step in range(steps):\n",
        "  action = agent.get_action()  #①行動を選択\n",
        "  reward = bandit.play(action) #②実際にプレイした報酬を得る\n",
        "  agent.update(action, reward) #③行動と報酬から学ぶ\n",
        "  total_reward += reward\n",
        "\n",
        "  total_rewards.append(total_reward)\n",
        "  rates.append(total_reward / (step+1))\n",
        "\n",
        "print(total_reward)\n",
        "\n",
        "# グラフの描画（１）\n",
        "plt.ylabel('Total reward')\n",
        "plt.xlabel('Steps')\n",
        "plt.plot(total_rewards)\n",
        "plt.show()\n",
        "\n",
        "# グラフの描画(2)\n",
        "plt.ylabel('Rates')\n",
        "plt.xlabel('Steps')\n",
        "plt.plot(rates)\n",
        "plt.show()"
      ],
      "metadata": {
        "colab": {
          "base_uri": "https://localhost:8080/",
          "height": 562
        },
        "id": "yEbhYLJ8V7pn",
        "outputId": "c070b257-a098-4bea-b76c-d0ef7201f064"
      },
      "execution_count": 17,
      "outputs": [
        {
          "output_type": "stream",
          "name": "stdout",
          "text": [
            "956\n"
          ]
        },
        {
          "output_type": "display_data",
          "data": {
            "text/plain": [
              "<Figure size 432x288 with 1 Axes>"
            ],
            "image/png": "[encoded data removed]"
          },
          "metadata": {
            "needs_background": "light"
          }
        },
        {
          "output_type": "display_data",
          "data": {
            "text/plain": [
              "<Figure size 432x288 with 1 Axes>"
            ],
            "image/png": "[encoded data removed]"
          },
          "metadata": {
            "needs_background": "light"
          }
        }
      ]
    },
    {
      "cell_type": "code",
      "source": [
        "runs = 200\n",
        "steps = 1000\n",
        "epsilon = 0.1\n",
        "all_rates = np.zeros((runs, steps))\n",
        "\n",
        "for n_alpha in range(2):\n",
        "  for run in range(runs):\n",
        "    bandit = NonStatBandit()\n",
        "    if n_alpha == 0:\n",
        "      agent = Agent(epsilon)\n",
        "    else:\n",
        "      agent = AlphaAgent(epsilon, alpha)\n",
        "\n",
        "    \n",
        "    total_reward = 0\n",
        "    total_rewards = []\n",
        "    rates = []\n",
        "    \n",
        "    for step in range(steps):\n",
        "      action = agent.get_action()  #①行動を選択\n",
        "      reward = bandit.play(action) #②実際にプレイした報酬を得る\n",
        "      agent.update(action, reward) #③行動と報酬から学ぶ\n",
        "      total_reward += reward\n",
        "\n",
        "      total_rewards.append(total_reward)\n",
        "      rates.append(total_reward / (step+1))\n",
        "\n",
        "    all_rates[run] = rates # ①報酬の結果を記録する\n",
        "    \n",
        "  avg_rates = np.average(all_rates, axis=0) # ②各ステップにおける平均を求める\n",
        "\n",
        "  # グラフの描画\n",
        "  plt.ylabel('Rates')\n",
        "  plt.xlabel('Steps')\n",
        "  plt.plot(avg_rates)\n",
        "plt.legend([\"sample average\", \"alpha const update\"])\n",
        "plt.show()"
      ],
      "metadata": {
        "colab": {
          "base_uri": "https://localhost:8080/",
          "height": 279
        },
        "id": "_OzY8xA8dVWs",
        "outputId": "bc31276b-6df5-4b06-dca5-5f515ee5a366"
      },
      "execution_count": 18,
      "outputs": [
        {
          "output_type": "display_data",
          "data": {
            "text/plain": [
              "<Figure size 432x288 with 1 Axes>"
            ],
            "image/png": "[encoded data removed]"
          },
          "metadata": {
            "needs_background": "light"
          }
        }
      ]
    },
    {
      "cell_type": "markdown",
      "source": [
        "# 2章 マルコフ決定過程\n",
        "エージェントの行動によって環境の状態が変化する問題を考える。  \n",
        "そのような問題の一部は**マルコフ決定過程**として定式化される。  "
      ],
      "metadata": {
        "id": "-2shJHVyk0RO"
      }
    },
    {
      "cell_type": "markdown",
      "source": [
        "## 2.1 MDPとは\n",
        "- MDP：Mrkov Dicision Process\n",
        "- 決定過程：エージェントが（環境と相互作用しながら）行動を決定する過程"
      ],
      "metadata": {
        "id": "pRQIQRzrk0WD"
      }
    },
    {
      "cell_type": "markdown",
      "source": [
        "### 2.1.1 MDPの具体例\n",
        "- 状態：エージェントの行動により変わるエージェントの状況"
      ],
      "metadata": {
        "id": "Rv-L3N1vk0ZY"
      }
    },
    {
      "cell_type": "markdown",
      "source": [
        "### 2.1.2 エージェントと環境のやりとり"
      ],
      "metadata": {
        "id": "YAus9gqnk0cZ"
      }
    },
    {
      "cell_type": "code",
      "source": [
        "from IPython.display import Image,display_png\n",
        "display_png(Image('MDPのサイクル.png'))"
      ],
      "metadata": {
        "colab": {
          "base_uri": "https://localhost:8080/",
          "height": 259
        },
        "id": "Gs6ua6sJqTS4",
        "outputId": "6ec2299e-3c75-407e-a6e0-30739f5b8ded"
      },
      "execution_count": 19,
      "outputs": [
        {
          "output_type": "display_data",
          "data": {
            "image/png": "[encoded data removed]"
          },
          "metadata": {}
        }
      ]
    },
    {
      "cell_type": "markdown",
      "source": [
        "## 2.2 環境とエージェントの定式化\n",
        "以下の三つを数式により定式化する\n",
        "- 状態遷移：状態はどのように遷移するのか\n",
        "- 報酬：報酬はどのように与えられるか\n",
        "- 方策：エージェントはどのように行動を決定するか"
      ],
      "metadata": {
        "id": "8UsDb_Ijk0ha"
      }
    },
    {
      "cell_type": "markdown",
      "source": [
        "### 2.2.1 状態遷移\n",
        "決定論的な状態遷移の場合、次の状態s'は状態sと行動aによって一意に決まる。  \n",
        "s' = f(s, a)  \n",
        "f(s, a)：状態遷移関数\n",
        "確率論的な状態遷移の場合、エージェントが状態sで、行動aを行った時、次の状態s'に移動する確率  \n",
        "p(s'|s, a)：状態遷移確率  \n",
        "\n",
        "マルコフ性：現在の状態sと行動aだけに依存して、次の状態s'が決まる"
      ],
      "metadata": {
        "id": "8lBxQz6Dk0lI"
      }
    },
    {
      "cell_type": "markdown",
      "source": [
        "### 2.2.2 報酬関数\n",
        "報酬関数：エージェントが状態sにいて、行動aを行い、次の状態s'になった時に得られる報酬をr(s, a, s')で定義  \n"
      ],
      "metadata": {
        "id": "xI4X6cQRk0oG"
      }
    },
    {
      "cell_type": "markdown",
      "source": [
        "### 2.2.3 エージェントの方策\n",
        "- 決定論的な方策：a=u(s)\n",
        "- 確率論的な方策：π(a|s)  \n",
        "ある状態sにいる時に行動aを取る確率"
      ],
      "metadata": {
        "id": "ZZ88QJVqk0q6"
      }
    },
    {
      "cell_type": "markdown",
      "source": [
        "## 2.3 MDPの目標\n",
        "- 方策π(a|s)によって行動し、\n",
        "- その行動と状態遷移確率p(s'|s, a)によって次の状態に遷移し、\n",
        "- 報酬関数r(s, a, s')に従って報酬が与えられる。\n",
        "最大方策：上記の枠組みの中で、収益が最大となる最適方策を見つける。"
      ],
      "metadata": {
        "id": "EWQ6MVot75ny"
      }
    },
    {
      "cell_type": "markdown",
      "source": [
        "## 2.3.1 エピソードタスクと連続タスク\n",
        "- エピソードタスク：終わりのある問題\n",
        "- 連続タスク：終わりのない問題"
      ],
      "metadata": {
        "id": "fgJlBRpr75rA"
      }
    },
    {
      "cell_type": "markdown",
      "source": [
        "### 2.3.2 収益\n",
        "収益Gt=Rt0+rRt1+r^2*Rt2+...\n",
        "r：割引率"
      ],
      "metadata": {
        "id": "4ApZK4Ic75uo"
      }
    },
    {
      "cell_type": "markdown",
      "source": [
        "### 2.3.3 状態価値関数\n",
        "収益の期待値：vπ(s)=E[Gt|St=s, π]  \n",
        "vπ(s)：状態価値関数\n"
      ],
      "metadata": {
        "id": "vwaTkm5475xf"
      }
    },
    {
      "cell_type": "markdown",
      "source": [
        "### 2.3.4 最適方策と最適価値関数\n",
        "v*：最適状態価値関数"
      ],
      "metadata": {
        "id": "u_ieP_dK751H"
      }
    },
    {
      "cell_type": "markdown",
      "source": [
        "## 2.4 MDPの例"
      ],
      "metadata": {
        "id": "AEx9vWXr755b"
      }
    },
    {
      "cell_type": "markdown",
      "source": [
        "# 3章 ベルマン方程式\n",
        "ベルマン方式式：MDPで成り立つ最も重要な方程式"
      ],
      "metadata": {
        "id": "_BT6rvgS76O6"
      }
    },
    {
      "cell_type": "markdown",
      "source": [
        "## 3.1 ベルマン方程式の導出"
      ],
      "metadata": {
        "id": "yernTk5L76R-"
      }
    },
    {
      "cell_type": "markdown",
      "source": [
        "## 3.1.1 確率と期待値\n",
        "p(y|x)：条件付き確率\n",
        "p(x,y)=p(x)p(y|x)：xとyが同時に起こる確率"
      ],
      "metadata": {
        "id": "YSWiWfRM76VI"
      }
    },
    {
      "cell_type": "markdown",
      "source": [
        "### 3.1.2 ベルマン方程式の導出\n"
      ],
      "metadata": {
        "id": "e5FQ9-Bd76X3"
      }
    },
    {
      "cell_type": "code",
      "source": [
        ""
      ],
      "metadata": {
        "id": "tF0M76rFRM7L"
      },
      "execution_count": null,
      "outputs": []
    }
  ],
  "metadata": {
    "colab": {
      "name": "DL_Zero4_1.ipynb",
      "provenance": [],
      "toc_visible": true,
      "authorship_tag": "ABX9TyObiHzD4CB6awt8q6gAlgJl",
      "include_colab_link": true
    },
    "kernelspec": {
      "display_name": "Python 3",
      "name": "python3"
    },
    "language_info": {
      "name": "python"
    }
  },
  "nbformat": 4,
  "nbformat_minor": 0
}
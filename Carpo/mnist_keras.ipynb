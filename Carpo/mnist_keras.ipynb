{
 "cells": [
  {
   "cell_type": "code",
   "execution_count": null,
   "metadata": {},
   "outputs": [],
   "source": [
    "import tensorflow as tf\n",
    "import keras\n",
    "from keras.datasets import fashion_mnist\n",
    "from keras.models import Sequential\n",
    "from keras.layers import Dense, Dropout, Conv2D, Flatten\n",
    "from keras.optimizers import SGD\n",
    "from keras.callbacks import EarlyStopping\n",
    "from keras.utils import np_utils\n",
    "from sklearn.utils import shuffle\n",
    "\n",
    "import matplotlib.pyplot as plt"
   ]
  },
  {
   "cell_type": "code",
   "execution_count": null,
   "metadata": {},
   "outputs": [],
   "source": [
    "(x_train, y_train), (x_test, y_test) = fashion_mnist.load_data()\n",
    "\n",
    "# 訓練データ\n",
    "x_train = x_train.reshape(-1, 28, 28, 1) # 4階のテンソルに変換\n",
    "x_train = x_train.astype('float32')\n",
    "x_train /= 255\n",
    "class_num = 10\n",
    "# 正解ラベルをOne-Hot表現に変換\n",
    "y_train = tf.keras.utils.to_categorical(y_train, class_num)\n",
    "\n",
    "# テストデータ\n",
    "x_test = x_test.reshape(-1, 28, 28, 1) # 4階のテンソルに変換\n",
    "x_test = x_test.astype('float32')\n",
    "x_test /= 255\n",
    "# 正解ラベルをOne-Hot表現に変換\n",
    "y_test = tf.keras.utils.to_categorical(y_test, class_num)"
   ]
  },
  {
   "cell_type": "code",
   "execution_count": null,
   "metadata": {},
   "outputs": [],
   "source": [
    "class CNN(tf.keras.Model):\n",
    "    '''\n",
    "    Attributes:\n",
    "        conv2D_1(Conv2D):\n",
    "        conv2D_2(Conv2D):\n",
    "        flatten(Flatten):\n",
    "        dorpout(Dropout):\n",
    "        d1(Dence):\n",
    "    '''\n",
    "    def __init__(self):\n",
    "        super().__init__()\n",
    "        self.conv2D_1 = tf.keras.layers.Conv2D(\n",
    "            filters=32,\n",
    "            kernel_size=(3,3),\n",
    "            padding='same',\n",
    "            input_shape=(28, 28,1),\n",
    "            activation='relu'\n",
    "        )\n",
    "        self.conv2D_2 = tf.keras.layers.Conv2D(\n",
    "            filters=64,\n",
    "            kernel_size=(3,3),\n",
    "            padding='same',\n",
    "            input_shape=(28, 28,1),\n",
    "            activation='relu'\n",
    "        )\n",
    "\n",
    "        self.flatten = tf.keras.layers.Flatten()\n",
    "        self.dropout1 = tf.keras.layers.Dropout(0.5)\n",
    "        self.d1 = tf.keras.layers.Dense(10, activation='softmax')\n",
    "\n",
    "    @tf.function #編集できない関数に機能を追加\n",
    "    def call(self, x, training=None):\n",
    "        '''CNNのインスタンスからコールバックされる関数\n",
    "        Parametes:x(ndarray(float32)):訓練データ\n",
    "        Returns(float32):CNNの出力として要素数3の1階のテンソル\n",
    "        '''\n",
    "        x = self.conv2D_1(x)\n",
    "        x = self.conv2D_2(x)\n",
    "        x = self.flatten(x)\n",
    "        if training:\n",
    "            x = self.dropout1(x)\n",
    "        x = self.d1(x)\n",
    "        return x\n"
   ]
  },
  {
   "cell_type": "code",
   "execution_count": null,
   "metadata": {},
   "outputs": [],
   "source": [
    "model = Sequential()\n",
    "# 畳み込み層\n",
    "model.add(\n",
    "    Conv2D(filters=32,\n",
    "    kernel_size=(3, 3),\n",
    "    padding='same',\n",
    "    input_shape=(28, 28, 1),\n",
    "    activation='relu'\n",
    "    )\n",
    ")\n",
    "model.add(Flatten())\n",
    "model.add(Dropout(0.5))\n",
    "model.add(Dense(10,\n",
    "                activation='softmax'\n",
    "        ))"
   ]
  },
  {
   "cell_type": "code",
   "execution_count": null,
   "metadata": {},
   "outputs": [],
   "source": [
    "# オブジェクトのコンパイル\n",
    "model.compile(\n",
    "    loss='sparse_categorical_crossentropy',\n",
    "    optimizer=SGD(lr=0.1),\n",
    "    metrics=['accuracy']\n",
    ")\n",
    "model.summary()"
   ]
  },
  {
   "cell_type": "code",
   "execution_count": null,
   "metadata": {},
   "outputs": [],
   "source": [
    "training_epochs = 100\n",
    "batch_size = 64\n",
    "\n",
    "# monitor に設定した値が、 patienceの値の回数続けてmin_delta以上改善しないと、学習をストップ\n",
    "early_stopping = EarlyStopping(\n",
    "    monitor='val_loss',\n",
    "    patience=5,\n",
    "    verbose=1\n",
    ")\n",
    "\n",
    "# 学習を行って結果を出力\n",
    "history = model.fit(\n",
    "    x_train,\n",
    "    y_train,\n",
    "    epochs=training_epochs,\n",
    "    batch_size=batch_size,\n",
    "    verbose=1,                  # 学習の進捗状況を出力する\n",
    "    validation_split=0.2,       # 検証データとして使用する割合\n",
    "    shuffle=True,               # 検証データを抽出する際にシャッフルする\n",
    "    callbacks=[early_stopping]  # コールバックはリストで指定する\n",
    ")\n",
    "# テストデータで学習を評価するデータを取得\n",
    "score = model.evaluate(x_test, y_test, verbose=0)\n",
    "print('Test loss:', score[0])\n",
    "print('Test accuracy:', score[1])"
   ]
  },
  {
   "cell_type": "code",
   "execution_count": null,
   "metadata": {},
   "outputs": [],
   "source": [
    "plt.figure(figsize=(15, 6))\n",
    "plt.subplots_adjust(wspace=0.2)\n",
    "plt.subplot(1,2,1)\n",
    "plt.plot(history.history['loss'],\n",
    "            label='training',\n",
    "            color='red')\n",
    "plt.ylim(0,1)\n",
    "plt.legend()\n",
    "plt.grid()\n",
    "plt.xlabel('epoch')\n",
    "plt.ylabel('loss')\n",
    "\n",
    "plt.subplot(1, 2, 2)\n",
    "plt.plot(history.history['accuracy'],\n",
    "        label='training',\n",
    "        color='black')\n",
    "plt.plot(history.history['val_accuracy'],\n",
    "        label='validation',\n",
    "        color='red')\n",
    "plt.ylim(0.5, 1)\n",
    "plt.legend()\n",
    "plt.grid()\n",
    "plt.xlabel('epoch')\n",
    "plt.ylabel('acc')\n",
    "plt.show()"
   ]
  },
  {
   "cell_type": "code",
   "execution_count": null,
   "metadata": {},
   "outputs": [],
   "source": []
  }
 ],
 "metadata": {
  "kernelspec": {
   "display_name": "Python 3",
   "language": "python",
   "name": "python3"
  },
  "language_info": {
   "codemirror_mode": {
    "name": "ipython",
    "version": 3
   },
   "file_extension": ".py",
   "mimetype": "text/x-python",
   "name": "python",
   "nbconvert_exporter": "python",
   "pygments_lexer": "ipython3",
   "version": "3.8.10"
  },
  "orig_nbformat": 4,
  "vscode": {
   "interpreter": {
    "hash": "916dbcbb3f70747c44a77c7bcd40155683ae19c65e1c03b4aa3499c5328201f1"
   }
  }
 },
 "nbformat": 4,
 "nbformat_minor": 2
}
